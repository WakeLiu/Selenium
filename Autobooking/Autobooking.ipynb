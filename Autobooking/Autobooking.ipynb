{
 "cells": [
  {
   "cell_type": "markdown",
   "metadata": {},
   "source": [
    "This project is to book a clinic through python selenium\n",
    "Author : Wake Liu"
   ]
  },
  {
   "cell_type": "code",
   "execution_count": 1,
   "metadata": {
    "collapsed": true
   },
   "outputs": [],
   "source": [
    "from selenium import webdriver\n",
    "from selenium.webdriver.common.keys import Keys\n",
    "from time import sleep\n",
    "import time\n",
    "\n",
    "clock_setting = True\n",
    "hour = 23\n",
    "minute = 59\n",
    "sec = 58\n",
    "times = 8"
   ]
  },
  {
   "cell_type": "markdown",
   "metadata": {},
   "source": [
    "由於每個ID都是獨立的，我們可以在頁面中找到自己要的ID資訊。\n",
    "以輕鬆美膚網為例，在登入時所需要的資料為ID, Password, Login, 從網站原始碼截取的資訊如下"
   ]
  },
  {
   "cell_type": "code",
   "execution_count": 2,
   "metadata": {
    "collapsed": true
   },
   "outputs": [],
   "source": [
    "def login_proc(username, password):\n",
    "    login_url = \"https://www.ezskin.com.tw/member/member_login.aspx\"\n",
    "    sel = webdriver.Chrome()\n",
    "    sel.get(\"https://www.ezskin.com.tw/member/member_login.aspx\")\n",
    "    # sign in the username\n",
    "    try:\n",
    "        user_input = sel.find_element_by_id(\"ctl00_ContentPlaceHolder1_txtUserID\")\n",
    "        user_input.clear()\n",
    "        user_input.send_keys(username)\n",
    "        print ('user-id write success!')\n",
    "    except:\n",
    "        print ('user-id write error!')\n",
    "    # sign in the pasword\n",
    "    try:\n",
    "        pwd_input = sel.find_element_by_id(\"ctl00_ContentPlaceHolder1_txtPassword\")\n",
    "        pwd_input.clear()\n",
    "        pwd_input.send_keys(password)\n",
    "        print ('pw write success!')\n",
    "    except:\n",
    "        print ('pw write error!')\n",
    "    # Check for Login success\n",
    "    try:\n",
    "        sel.find_element_by_id(\"ctl00_ContentPlaceHolder1_btnLogin\").click()\n",
    "    except:\n",
    "        print ('Login Failed')\n",
    "\n",
    "    while True:\n",
    "        curpage_url = sel.current_url\n",
    "        if curpage_url != login_url:\n",
    "            if curpage_url[:-1] != login_url:  # choose wrong verify_pic\n",
    "                print ('Login finished!')\n",
    "                break\n",
    "        else:\n",
    "            time.sleep(5)\n",
    "            print ('Login Failed!')\n",
    "    return sel"
   ]
  },
  {
   "cell_type": "code",
   "execution_count": 3,
   "metadata": {},
   "outputs": [
    {
     "name": "stdout",
     "output_type": "stream",
     "text": [
      "user-id write success!\n",
      "pw write success!\n",
      "Login finished!\n"
     ]
    }
   ],
   "source": [
    "sel = login_proc(\"F227268068\", \"lovewake2018\")"
   ]
  },
  {
   "cell_type": "markdown",
   "metadata": {},
   "source": [
    "Since 門診掛號沒有id,這邊用Xpath的方式將該element 找到\n",
    "Find the Xpath of 門診掛號"
   ]
  },
  {
   "cell_type": "code",
   "execution_count": 4,
   "metadata": {
    "collapsed": true
   },
   "outputs": [],
   "source": [
    "try:\n",
    "    sel.find_element_by_xpath('//*[@id=\"body\"]/div[4]/div[2]/div[1]/div/div[2]/table/tbody/tr/td/table/tbody/tr[4]/td/div/input').click()\n",
    "except BaseException:\n",
    "    print (\"無法門診掛號\")"
   ]
  },
  {
   "cell_type": "markdown",
   "metadata": {},
   "source": [
    "仔細觀察，該checkbox有固定的格式\n",
    "由於不確定之後是109還是110所以兩個都進行檢查\n",
    "如果有出現該id就直接click然後break 離開迴圈"
   ]
  },
  {
   "cell_type": "code",
   "execution_count": 5,
   "metadata": {
    "collapsed": true
   },
   "outputs": [],
   "source": [
    "def select_proc():\n",
    "    flag = 0\n",
    "    try:\n",
    "        sel.refresh()\n",
    "        #a = 1\n",
    "    except:\n",
    "        print (\"Cannot Access this website\")\n",
    "    for i in range (1,4):\n",
    "        checkbox = 'ctl00_ContentPlaceHolder1_dbOutpatient_ctl09_chkSelect'+str(i)\n",
    "        try:   \n",
    "            sel.find_element_by_id(checkbox).click()\n",
    "            flag = 1\n",
    "            break\n",
    "        except BaseException:\n",
    "            continue\n",
    "            #print(checkbox + \" element not exist\")\n",
    "    return flag"
   ]
  },
  {
   "cell_type": "markdown",
   "metadata": {},
   "source": [
    "##### 這個步驟是等待，我們只有在23時59分59秒才需要開啟該程式，其他時間都可以休息\n",
    "如果不確定localtime的語法可以輸入\n",
    "print (\"本地时间为 :\", localtime)"
   ]
  },
  {
   "cell_type": "code",
   "execution_count": 6,
   "metadata": {},
   "outputs": [
    {
     "name": "stdout",
     "output_type": "stream",
     "text": [
      "21 55 6\n"
     ]
    },
    {
     "ename": "KeyboardInterrupt",
     "evalue": "",
     "output_type": "error",
     "traceback": [
      "\u001b[0;31m---------------------------------------------------------------------------\u001b[0m",
      "\u001b[0;31mKeyboardInterrupt\u001b[0m                         Traceback (most recent call last)",
      "\u001b[0;32m<ipython-input-6-e55a01392d79>\u001b[0m in \u001b[0;36m<module>\u001b[0;34m()\u001b[0m\n\u001b[1;32m     12\u001b[0m     \u001b[0mprint\u001b[0m \u001b[0;34m(\u001b[0m\u001b[0mlocaltime\u001b[0m\u001b[0;34m.\u001b[0m\u001b[0mtm_hour\u001b[0m\u001b[0;34m,\u001b[0m\u001b[0mlocaltime\u001b[0m\u001b[0;34m.\u001b[0m\u001b[0mtm_min\u001b[0m\u001b[0;34m,\u001b[0m\u001b[0mlocaltime\u001b[0m\u001b[0;34m.\u001b[0m\u001b[0mtm_sec\u001b[0m\u001b[0;34m)\u001b[0m\u001b[0;34m\u001b[0m\u001b[0m\n\u001b[1;32m     13\u001b[0m     \u001b[0;32mif\u001b[0m \u001b[0mlocaltime\u001b[0m\u001b[0;34m.\u001b[0m\u001b[0mtm_hour\u001b[0m \u001b[0;34m!=\u001b[0m \u001b[0mhour\u001b[0m\u001b[0;34m:\u001b[0m\u001b[0;34m\u001b[0m\u001b[0m\n\u001b[0;32m---> 14\u001b[0;31m         \u001b[0msleep\u001b[0m\u001b[0;34m(\u001b[0m\u001b[0;36m3600\u001b[0m\u001b[0;34m)\u001b[0m\u001b[0;34m\u001b[0m\u001b[0m\n\u001b[0m\u001b[1;32m     15\u001b[0m     \u001b[0;32melif\u001b[0m \u001b[0mlocaltime\u001b[0m\u001b[0;34m.\u001b[0m\u001b[0mtm_min\u001b[0m \u001b[0;34m!=\u001b[0m \u001b[0mminute\u001b[0m\u001b[0;34m:\u001b[0m\u001b[0;34m\u001b[0m\u001b[0m\n\u001b[1;32m     16\u001b[0m         \u001b[0msleep\u001b[0m\u001b[0;34m(\u001b[0m\u001b[0;36m60\u001b[0m\u001b[0;34m)\u001b[0m\u001b[0;34m\u001b[0m\u001b[0m\n",
      "\u001b[0;31mKeyboardInterrupt\u001b[0m: "
     ]
    }
   ],
   "source": [
    "#print (\"localtime :\", localtime)\n",
    "\n",
    "while(clock_setting):\n",
    "    localtime = time.localtime(time.time())\n",
    "    if localtime.tm_hour == hour and localtime.tm_min == minute and localtime.tm_sec == sec:\n",
    "        while(1):\n",
    "            localtime = time.localtime(time.time())\n",
    "            if localtime.tm_sec == (sec+1)%60 :\n",
    "                sleep (0.5)\n",
    "                break\n",
    "        break\n",
    "    print (localtime.tm_hour,localtime.tm_min,localtime.tm_sec)\n",
    "    if localtime.tm_hour != hour:\n",
    "        sleep(3600)\n",
    "    elif localtime.tm_min != minute:\n",
    "        sleep(60)\n",
    "    else:\n",
    "        sleep(1)\n",
    "\n"
   ]
  },
  {
   "cell_type": "markdown",
   "metadata": {},
   "source": [
    "## 等待\n",
    "\n",
    "執行為期2秒鐘的等待時間\n",
    "每隔0.2秒刷新網頁"
   ]
  },
  {
   "cell_type": "code",
   "execution_count": null,
   "metadata": {},
   "outputs": [],
   "source": [
    "for i in range(times):\n",
    "    flag = select_proc()\n",
    "    current_time = time.time()\n",
    "    if flag == True:\n",
    "        print (\"Successfully Selected, the time is i = \",i, time.localtime(current_time),current_time)\n",
    "        break\n",
    "    else :\n",
    "        print (\"Keep Waiting, the time is i = \",i, time.localtime(current_time),current_time)\n",
    "        "
   ]
  },
  {
   "cell_type": "markdown",
   "metadata": {},
   "source": [
    "下一步跟確認掛號都算是簡單的\n",
    "如果有成功掛號(即flag為true)\n",
    "只要抓到id繼續click就可以了\n",
    "\n",
    "<input type=\"submit\" name=\"ctl00$ContentPlaceHolder1$btnNext\" value=\"下一步\" onclick=\"return checkModify();\" id=\"ctl00_ContentPlaceHolder1_btnNext\" class=\"btn01\">\n",
    "\n",
    "確認掛號語法\n",
    "\n",
    "<input type=\"submit\" name=\"ctl00$ContentPlaceHolder1$btnSave\" value=\"確定掛號\" id=\"ctl00_ContentPlaceHolder1_btnSave\" class=\"btn01\">"
   ]
  },
  {
   "cell_type": "code",
   "execution_count": null,
   "metadata": {},
   "outputs": [],
   "source": [
    "if flag == True:\n",
    "    try:\n",
    "        sel.find_element_by_id(\"ctl00_ContentPlaceHolder1_btnNext\").click()\n",
    "        print (\"Successfully Next Step!\")\n",
    "    except BaseException:\n",
    "        print (\"Cannot Press Next step!\")\n",
    "    try:\n",
    "        sel.find_element_by_id(\"ctl00_ContentPlaceHolder1_btnSave\").click()\n",
    "        print (\"Successfully Saved!\")\n",
    "    except BaseException:\n",
    "        print (\"Cannot save\")\n",
    "    if '應用程式中發生伺服器錯誤' not in sel.page_source:\n",
    "        print (\"Congratulation!!! Your reservation is done!\")\n",
    "    else:\n",
    "        print (\"The website error!\")\n",
    "else:\n",
    "    print (\"Sorry >_< all the doctors are reserved!\")"
   ]
  },
  {
   "cell_type": "code",
   "execution_count": null,
   "metadata": {},
   "outputs": [],
   "source": [
    "localtime = time.localtime(time.time())\n",
    "print (\"Current Time is\"+str(localtime))"
   ]
  }
 ],
 "metadata": {
  "kernelspec": {
   "display_name": "Python 3",
   "language": "python",
   "name": "python3"
  },
  "language_info": {
   "codemirror_mode": {
    "name": "ipython",
    "version": 3
   },
   "file_extension": ".py",
   "mimetype": "text/x-python",
   "name": "python",
   "nbconvert_exporter": "python",
   "pygments_lexer": "ipython3",
   "version": "3.6.1"
  }
 },
 "nbformat": 4,
 "nbformat_minor": 2
}
