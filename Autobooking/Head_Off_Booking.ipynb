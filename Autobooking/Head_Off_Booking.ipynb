{
 "cells": [
  {
   "cell_type": "markdown",
   "metadata": {},
   "source": [
    "This project is to book a clinic through python selenium\n",
    "Author : Wake Liu"
   ]
  },
  {
   "cell_type": "code",
   "execution_count": 1,
   "metadata": {
    "collapsed": true
   },
   "outputs": [],
   "source": [
    "from selenium import webdriver\n",
    "from selenium.webdriver.common.keys import Keys\n",
    "from time import sleep\n",
    "import time\n",
    "\n",
    "times = 7200\n",
    "sleep_sec = 10"
   ]
  },
  {
   "cell_type": "markdown",
   "metadata": {},
   "source": [
    "由於每個ID都是獨立的，我們可以在頁面中找到自己要的ID資訊。\n",
    "以輕鬆美膚網為例，在登入時所需要的資料為ID, Password, Login, 從網站原始碼截取的資訊如下"
   ]
  },
  {
   "cell_type": "code",
   "execution_count": 2,
   "metadata": {
    "collapsed": true
   },
   "outputs": [],
   "source": [
    "def login_proc(username, password):\n",
    "    login_url = \"https://www.ezskin.com.tw/member/member_login.aspx\"\n",
    "    sel = webdriver.Chrome()\n",
    "    sel.get(login_url)\n",
    "    # sign in the username\n",
    "    try:\n",
    "        user_input = sel.find_element_by_id(\"ctl00_ContentPlaceHolder1_txtUserID\")\n",
    "        user_input.clear()\n",
    "        user_input.send_keys(username)\n",
    "        print ('user-id write success!')\n",
    "    except:\n",
    "        print ('user-id write error!')\n",
    "    # sign in the pasword\n",
    "    try:\n",
    "        pwd_input = sel.find_element_by_id(\"ctl00_ContentPlaceHolder1_txtPassword\")\n",
    "        pwd_input.clear()\n",
    "        pwd_input.send_keys(password)\n",
    "        print ('pw write success!')\n",
    "    except:\n",
    "        print ('pw write error!')\n",
    "    # Check for Login success\n",
    "    try:\n",
    "        sel.find_element_by_id(\"ctl00_ContentPlaceHolder1_btnLogin\").click()\n",
    "    except:\n",
    "        print ('Login Failed')\n",
    "\n",
    "    while True:\n",
    "        curpage_url = sel.current_url\n",
    "        if curpage_url != login_url:\n",
    "            if curpage_url[:-1] != login_url:  # choose wrong verify_pic\n",
    "                print ('Login finished!')\n",
    "                break\n",
    "        else:\n",
    "            time.sleep(5)\n",
    "            print ('Login Failed!')\n",
    "    return sel"
   ]
  },
  {
   "cell_type": "code",
   "execution_count": 3,
   "metadata": {},
   "outputs": [
    {
     "name": "stdout",
     "output_type": "stream",
     "text": [
      "user-id write success!\n",
      "pw write success!\n",
      "Login finished!\n"
     ]
    }
   ],
   "source": [
    "sel = login_proc(\"F227268068\", \"lovewake2018\")"
   ]
  },
  {
   "cell_type": "markdown",
   "metadata": {},
   "source": [
    "Since 門診掛號沒有id,這邊用Xpath的方式將該element 找到\n",
    "Find the Xpath of 門診掛號"
   ]
  },
  {
   "cell_type": "code",
   "execution_count": 4,
   "metadata": {
    "collapsed": true
   },
   "outputs": [],
   "source": [
    "try:\n",
    "    sel.find_element_by_xpath('//*[@id=\"body\"]/div[4]/div[2]/div[1]/div/div[2]/table/tbody/tr/td/table/tbody/tr[4]/td/div/input').click()\n",
    "except BaseException:\n",
    "    print (\"無法門診掛號\")"
   ]
  },
  {
   "cell_type": "markdown",
   "metadata": {},
   "source": [
    "仔細觀察，該checkbox有固定的格式\n",
    "由於不確定之後是109還是110所以兩個都進行檢查\n",
    "如果有出現該id就直接click然後break 離開迴圈"
   ]
  },
  {
   "cell_type": "code",
   "execution_count": 5,
   "metadata": {
    "collapsed": true
   },
   "outputs": [],
   "source": [
    "def select_proc():\n",
    "    flag = 0\n",
    "    try:\n",
    "        sel.refresh()\n",
    "        #a = 1\n",
    "    except:\n",
    "        print (\"Cannot Access this website\")\n",
    "    for i in range (1,4):\n",
    "        for j in range (4,10):\n",
    "            checkbox = 'ctl00_ContentPlaceHolder1_dbOutpatient_ctl0'+str(j)+'_chkSelect'+str(i)\n",
    "            try:   \n",
    "                sel.find_element_by_id(checkbox).click()\n",
    "                flag = 1\n",
    "                break\n",
    "            except BaseException:\n",
    "                continue\n",
    "            #print(checkbox + \" element not exist\")\n",
    "    return flag"
   ]
  },
  {
   "cell_type": "markdown",
   "metadata": {},
   "source": [
    "##### 這個步驟是等待，我們只有在23時59分59秒才需要開啟該程式，其他時間都可以休息\n",
    "如果不確定localtime的語法可以輸入\n",
    "print (\"本地时间为 :\", localtime)"
   ]
  },
  {
   "cell_type": "code",
   "execution_count": 6,
   "metadata": {},
   "outputs": [
    {
     "name": "stdout",
     "output_type": "stream",
     "text": [
      "Keep Waiting, the time is i =  0 time.struct_time(tm_year=2018, tm_mon=3, tm_mday=2, tm_hour=1, tm_min=5, tm_sec=40, tm_wday=4, tm_yday=61, tm_isdst=0) 1519923940.82729\n",
      "Keep Waiting, the time is i =  1 time.struct_time(tm_year=2018, tm_mon=3, tm_mday=2, tm_hour=1, tm_min=5, tm_sec=51, tm_wday=4, tm_yday=61, tm_isdst=0) 1519923951.043342\n",
      "Keep Waiting, the time is i =  2 time.struct_time(tm_year=2018, tm_mon=3, tm_mday=2, tm_hour=1, tm_min=6, tm_sec=1, tm_wday=4, tm_yday=61, tm_isdst=0) 1519923961.522588\n",
      "Keep Waiting, the time is i =  3 time.struct_time(tm_year=2018, tm_mon=3, tm_mday=2, tm_hour=1, tm_min=6, tm_sec=11, tm_wday=4, tm_yday=61, tm_isdst=0) 1519923971.964074\n",
      "Keep Waiting, the time is i =  4 time.struct_time(tm_year=2018, tm_mon=3, tm_mday=2, tm_hour=1, tm_min=6, tm_sec=22, tm_wday=4, tm_yday=61, tm_isdst=0) 1519923982.270856\n",
      "Keep Waiting, the time is i =  5 time.struct_time(tm_year=2018, tm_mon=3, tm_mday=2, tm_hour=1, tm_min=6, tm_sec=32, tm_wday=4, tm_yday=61, tm_isdst=0) 1519923992.633493\n",
      "Keep Waiting, the time is i =  6 time.struct_time(tm_year=2018, tm_mon=3, tm_mday=2, tm_hour=1, tm_min=6, tm_sec=42, tm_wday=4, tm_yday=61, tm_isdst=0) 1519924002.9862258\n",
      "Keep Waiting, the time is i =  7 time.struct_time(tm_year=2018, tm_mon=3, tm_mday=2, tm_hour=1, tm_min=6, tm_sec=53, tm_wday=4, tm_yday=61, tm_isdst=0) 1519924013.31315\n",
      "Keep Waiting, the time is i =  8 time.struct_time(tm_year=2018, tm_mon=3, tm_mday=2, tm_hour=1, tm_min=7, tm_sec=3, tm_wday=4, tm_yday=61, tm_isdst=0) 1519924023.684222\n",
      "Keep Waiting, the time is i =  9 time.struct_time(tm_year=2018, tm_mon=3, tm_mday=2, tm_hour=1, tm_min=7, tm_sec=13, tm_wday=4, tm_yday=61, tm_isdst=0) 1519924033.981771\n",
      "Keep Waiting, the time is i =  10 time.struct_time(tm_year=2018, tm_mon=3, tm_mday=2, tm_hour=1, tm_min=7, tm_sec=24, tm_wday=4, tm_yday=61, tm_isdst=0) 1519924044.375683\n",
      "Keep Waiting, the time is i =  11 time.struct_time(tm_year=2018, tm_mon=3, tm_mday=2, tm_hour=1, tm_min=7, tm_sec=34, tm_wday=4, tm_yday=61, tm_isdst=0) 1519924054.738861\n",
      "Keep Waiting, the time is i =  12 time.struct_time(tm_year=2018, tm_mon=3, tm_mday=2, tm_hour=1, tm_min=7, tm_sec=45, tm_wday=4, tm_yday=61, tm_isdst=0) 1519924065.046048\n",
      "Keep Waiting, the time is i =  13 time.struct_time(tm_year=2018, tm_mon=3, tm_mday=2, tm_hour=1, tm_min=7, tm_sec=55, tm_wday=4, tm_yday=61, tm_isdst=0) 1519924075.40134\n",
      "Keep Waiting, the time is i =  14 time.struct_time(tm_year=2018, tm_mon=3, tm_mday=2, tm_hour=1, tm_min=8, tm_sec=5, tm_wday=4, tm_yday=61, tm_isdst=0) 1519924085.749084\n",
      "Keep Waiting, the time is i =  15 time.struct_time(tm_year=2018, tm_mon=3, tm_mday=2, tm_hour=1, tm_min=8, tm_sec=16, tm_wday=4, tm_yday=61, tm_isdst=0) 1519924096.149256\n",
      "Keep Waiting, the time is i =  16 time.struct_time(tm_year=2018, tm_mon=3, tm_mday=2, tm_hour=1, tm_min=8, tm_sec=26, tm_wday=4, tm_yday=61, tm_isdst=0) 1519924106.463586\n",
      "Keep Waiting, the time is i =  17 time.struct_time(tm_year=2018, tm_mon=3, tm_mday=2, tm_hour=1, tm_min=8, tm_sec=36, tm_wday=4, tm_yday=61, tm_isdst=0) 1519924116.758005\n",
      "Keep Waiting, the time is i =  18 time.struct_time(tm_year=2018, tm_mon=3, tm_mday=2, tm_hour=1, tm_min=8, tm_sec=47, tm_wday=4, tm_yday=61, tm_isdst=0) 1519924127.0879722\n",
      "Keep Waiting, the time is i =  19 time.struct_time(tm_year=2018, tm_mon=3, tm_mday=2, tm_hour=1, tm_min=8, tm_sec=57, tm_wday=4, tm_yday=61, tm_isdst=0) 1519924137.7260559\n",
      "Keep Waiting, the time is i =  20 time.struct_time(tm_year=2018, tm_mon=3, tm_mday=2, tm_hour=1, tm_min=9, tm_sec=8, tm_wday=4, tm_yday=61, tm_isdst=0) 1519924148.2731829\n",
      "Keep Waiting, the time is i =  21 time.struct_time(tm_year=2018, tm_mon=3, tm_mday=2, tm_hour=1, tm_min=9, tm_sec=18, tm_wday=4, tm_yday=61, tm_isdst=0) 1519924158.58948\n",
      "Keep Waiting, the time is i =  22 time.struct_time(tm_year=2018, tm_mon=3, tm_mday=2, tm_hour=1, tm_min=9, tm_sec=28, tm_wday=4, tm_yday=61, tm_isdst=0) 1519924168.947565\n",
      "Keep Waiting, the time is i =  23 time.struct_time(tm_year=2018, tm_mon=3, tm_mday=2, tm_hour=1, tm_min=9, tm_sec=39, tm_wday=4, tm_yday=61, tm_isdst=0) 1519924179.3482509\n",
      "Keep Waiting, the time is i =  24 time.struct_time(tm_year=2018, tm_mon=3, tm_mday=2, tm_hour=1, tm_min=9, tm_sec=49, tm_wday=4, tm_yday=61, tm_isdst=0) 1519924189.645091\n",
      "Keep Waiting, the time is i =  25 time.struct_time(tm_year=2018, tm_mon=3, tm_mday=2, tm_hour=1, tm_min=9, tm_sec=59, tm_wday=4, tm_yday=61, tm_isdst=0) 1519924199.9801202\n",
      "Keep Waiting, the time is i =  26 time.struct_time(tm_year=2018, tm_mon=3, tm_mday=2, tm_hour=1, tm_min=10, tm_sec=10, tm_wday=4, tm_yday=61, tm_isdst=0) 1519924210.281582\n",
      "Keep Waiting, the time is i =  27 time.struct_time(tm_year=2018, tm_mon=3, tm_mday=2, tm_hour=1, tm_min=10, tm_sec=20, tm_wday=4, tm_yday=61, tm_isdst=0) 1519924220.669554\n",
      "Keep Waiting, the time is i =  28 time.struct_time(tm_year=2018, tm_mon=3, tm_mday=2, tm_hour=1, tm_min=10, tm_sec=30, tm_wday=4, tm_yday=61, tm_isdst=0) 1519924230.972681\n",
      "Keep Waiting, the time is i =  29 time.struct_time(tm_year=2018, tm_mon=3, tm_mday=2, tm_hour=1, tm_min=10, tm_sec=41, tm_wday=4, tm_yday=61, tm_isdst=0) 1519924241.534553\n",
      "Keep Waiting, the time is i =  30 time.struct_time(tm_year=2018, tm_mon=3, tm_mday=2, tm_hour=1, tm_min=10, tm_sec=51, tm_wday=4, tm_yday=61, tm_isdst=0) 1519924251.854681\n",
      "Keep Waiting, the time is i =  31 time.struct_time(tm_year=2018, tm_mon=3, tm_mday=2, tm_hour=1, tm_min=11, tm_sec=2, tm_wday=4, tm_yday=61, tm_isdst=0) 1519924262.174538\n",
      "Keep Waiting, the time is i =  32 time.struct_time(tm_year=2018, tm_mon=3, tm_mday=2, tm_hour=1, tm_min=11, tm_sec=12, tm_wday=4, tm_yday=61, tm_isdst=0) 1519924272.482363\n",
      "Keep Waiting, the time is i =  33 time.struct_time(tm_year=2018, tm_mon=3, tm_mday=2, tm_hour=1, tm_min=11, tm_sec=23, tm_wday=4, tm_yday=61, tm_isdst=0) 1519924283.0704372\n",
      "Keep Waiting, the time is i =  34 time.struct_time(tm_year=2018, tm_mon=3, tm_mday=2, tm_hour=1, tm_min=11, tm_sec=33, tm_wday=4, tm_yday=61, tm_isdst=0) 1519924293.538527\n",
      "Keep Waiting, the time is i =  35 time.struct_time(tm_year=2018, tm_mon=3, tm_mday=2, tm_hour=1, tm_min=11, tm_sec=44, tm_wday=4, tm_yday=61, tm_isdst=0) 1519924304.1330109\n",
      "Keep Waiting, the time is i =  36 time.struct_time(tm_year=2018, tm_mon=3, tm_mday=2, tm_hour=1, tm_min=11, tm_sec=54, tm_wday=4, tm_yday=61, tm_isdst=0) 1519924314.593143\n",
      "Keep Waiting, the time is i =  37 time.struct_time(tm_year=2018, tm_mon=3, tm_mday=2, tm_hour=1, tm_min=12, tm_sec=5, tm_wday=4, tm_yday=61, tm_isdst=0) 1519924325.0536268\n",
      "Keep Waiting, the time is i =  38 time.struct_time(tm_year=2018, tm_mon=3, tm_mday=2, tm_hour=1, tm_min=12, tm_sec=15, tm_wday=4, tm_yday=61, tm_isdst=0) 1519924335.5681999\n",
      "Keep Waiting, the time is i =  39 time.struct_time(tm_year=2018, tm_mon=3, tm_mday=2, tm_hour=1, tm_min=12, tm_sec=26, tm_wday=4, tm_yday=61, tm_isdst=0) 1519924346.071317\n",
      "Keep Waiting, the time is i =  40 time.struct_time(tm_year=2018, tm_mon=3, tm_mday=2, tm_hour=1, tm_min=12, tm_sec=36, tm_wday=4, tm_yday=61, tm_isdst=0) 1519924356.509734\n",
      "Keep Waiting, the time is i =  41 time.struct_time(tm_year=2018, tm_mon=3, tm_mday=2, tm_hour=1, tm_min=12, tm_sec=47, tm_wday=4, tm_yday=61, tm_isdst=0) 1519924367.4022532\n",
      "Keep Waiting, the time is i =  42 time.struct_time(tm_year=2018, tm_mon=3, tm_mday=2, tm_hour=1, tm_min=12, tm_sec=58, tm_wday=4, tm_yday=61, tm_isdst=0) 1519924378.098735\n",
      "Keep Waiting, the time is i =  43 time.struct_time(tm_year=2018, tm_mon=3, tm_mday=2, tm_hour=1, tm_min=13, tm_sec=8, tm_wday=4, tm_yday=61, tm_isdst=0) 1519924388.715772\n",
      "Keep Waiting, the time is i =  44 time.struct_time(tm_year=2018, tm_mon=3, tm_mday=2, tm_hour=1, tm_min=13, tm_sec=19, tm_wday=4, tm_yday=61, tm_isdst=0) 1519924399.416681\n",
      "Keep Waiting, the time is i =  45 time.struct_time(tm_year=2018, tm_mon=3, tm_mday=2, tm_hour=1, tm_min=13, tm_sec=30, tm_wday=4, tm_yday=61, tm_isdst=0) 1519924410.2035189\n",
      "Keep Waiting, the time is i =  46 time.struct_time(tm_year=2018, tm_mon=3, tm_mday=2, tm_hour=1, tm_min=13, tm_sec=40, tm_wday=4, tm_yday=61, tm_isdst=0) 1519924420.881719\n",
      "Keep Waiting, the time is i =  47 time.struct_time(tm_year=2018, tm_mon=3, tm_mday=2, tm_hour=1, tm_min=13, tm_sec=51, tm_wday=4, tm_yday=61, tm_isdst=0) 1519924431.4957309\n"
     ]
    },
    {
     "name": "stdout",
     "output_type": "stream",
     "text": [
      "Keep Waiting, the time is i =  48 time.struct_time(tm_year=2018, tm_mon=3, tm_mday=2, tm_hour=1, tm_min=14, tm_sec=2, tm_wday=4, tm_yday=61, tm_isdst=0) 1519924442.097947\n",
      "Keep Waiting, the time is i =  49 time.struct_time(tm_year=2018, tm_mon=3, tm_mday=2, tm_hour=1, tm_min=14, tm_sec=12, tm_wday=4, tm_yday=61, tm_isdst=0) 1519924452.727402\n",
      "Keep Waiting, the time is i =  50 time.struct_time(tm_year=2018, tm_mon=3, tm_mday=2, tm_hour=1, tm_min=14, tm_sec=23, tm_wday=4, tm_yday=61, tm_isdst=0) 1519924463.335567\n",
      "Keep Waiting, the time is i =  51 time.struct_time(tm_year=2018, tm_mon=3, tm_mday=2, tm_hour=1, tm_min=14, tm_sec=33, tm_wday=4, tm_yday=61, tm_isdst=0) 1519924473.9416478\n",
      "Keep Waiting, the time is i =  52 time.struct_time(tm_year=2018, tm_mon=3, tm_mday=2, tm_hour=1, tm_min=14, tm_sec=44, tm_wday=4, tm_yday=61, tm_isdst=0) 1519924484.5567842\n",
      "Keep Waiting, the time is i =  53 time.struct_time(tm_year=2018, tm_mon=3, tm_mday=2, tm_hour=1, tm_min=14, tm_sec=55, tm_wday=4, tm_yday=61, tm_isdst=0) 1519924495.2654378\n",
      "Keep Waiting, the time is i =  54 time.struct_time(tm_year=2018, tm_mon=3, tm_mday=2, tm_hour=1, tm_min=15, tm_sec=5, tm_wday=4, tm_yday=61, tm_isdst=0) 1519924505.980364\n",
      "Keep Waiting, the time is i =  55 time.struct_time(tm_year=2018, tm_mon=3, tm_mday=2, tm_hour=1, tm_min=15, tm_sec=16, tm_wday=4, tm_yday=61, tm_isdst=0) 1519924516.7264352\n",
      "Keep Waiting, the time is i =  56 time.struct_time(tm_year=2018, tm_mon=3, tm_mday=2, tm_hour=1, tm_min=15, tm_sec=27, tm_wday=4, tm_yday=61, tm_isdst=0) 1519924527.3680398\n",
      "Keep Waiting, the time is i =  57 time.struct_time(tm_year=2018, tm_mon=3, tm_mday=2, tm_hour=1, tm_min=15, tm_sec=38, tm_wday=4, tm_yday=61, tm_isdst=0) 1519924538.103725\n",
      "Keep Waiting, the time is i =  58 time.struct_time(tm_year=2018, tm_mon=3, tm_mday=2, tm_hour=1, tm_min=15, tm_sec=48, tm_wday=4, tm_yday=61, tm_isdst=0) 1519924548.826323\n",
      "Keep Waiting, the time is i =  59 time.struct_time(tm_year=2018, tm_mon=3, tm_mday=2, tm_hour=1, tm_min=15, tm_sec=59, tm_wday=4, tm_yday=61, tm_isdst=0) 1519924559.5738811\n",
      "Keep Waiting, the time is i =  60 time.struct_time(tm_year=2018, tm_mon=3, tm_mday=2, tm_hour=1, tm_min=16, tm_sec=10, tm_wday=4, tm_yday=61, tm_isdst=0) 1519924570.358824\n",
      "Keep Waiting, the time is i =  61 time.struct_time(tm_year=2018, tm_mon=3, tm_mday=2, tm_hour=1, tm_min=16, tm_sec=21, tm_wday=4, tm_yday=61, tm_isdst=0) 1519924581.111197\n",
      "Keep Waiting, the time is i =  62 time.struct_time(tm_year=2018, tm_mon=3, tm_mday=2, tm_hour=1, tm_min=16, tm_sec=31, tm_wday=4, tm_yday=61, tm_isdst=0) 1519924591.730717\n",
      "Keep Waiting, the time is i =  63 time.struct_time(tm_year=2018, tm_mon=3, tm_mday=2, tm_hour=1, tm_min=16, tm_sec=42, tm_wday=4, tm_yday=61, tm_isdst=0) 1519924602.668273\n",
      "Keep Waiting, the time is i =  64 time.struct_time(tm_year=2018, tm_mon=3, tm_mday=2, tm_hour=1, tm_min=16, tm_sec=53, tm_wday=4, tm_yday=61, tm_isdst=0) 1519924613.527339\n",
      "Keep Waiting, the time is i =  65 time.struct_time(tm_year=2018, tm_mon=3, tm_mday=2, tm_hour=1, tm_min=17, tm_sec=4, tm_wday=4, tm_yday=61, tm_isdst=0) 1519924624.731502\n",
      "Keep Waiting, the time is i =  66 time.struct_time(tm_year=2018, tm_mon=3, tm_mday=2, tm_hour=1, tm_min=17, tm_sec=15, tm_wday=4, tm_yday=61, tm_isdst=0) 1519924635.9366028\n",
      "Keep Waiting, the time is i =  67 time.struct_time(tm_year=2018, tm_mon=3, tm_mday=2, tm_hour=1, tm_min=17, tm_sec=27, tm_wday=4, tm_yday=61, tm_isdst=0) 1519924647.1319308\n",
      "Keep Waiting, the time is i =  68 time.struct_time(tm_year=2018, tm_mon=3, tm_mday=2, tm_hour=1, tm_min=17, tm_sec=38, tm_wday=4, tm_yday=61, tm_isdst=0) 1519924658.3836539\n",
      "Keep Waiting, the time is i =  69 time.struct_time(tm_year=2018, tm_mon=3, tm_mday=2, tm_hour=1, tm_min=17, tm_sec=49, tm_wday=4, tm_yday=61, tm_isdst=0) 1519924669.5369952\n",
      "Keep Waiting, the time is i =  70 time.struct_time(tm_year=2018, tm_mon=3, tm_mday=2, tm_hour=1, tm_min=18, tm_sec=0, tm_wday=4, tm_yday=61, tm_isdst=0) 1519924680.8828108\n",
      "Keep Waiting, the time is i =  71 time.struct_time(tm_year=2018, tm_mon=3, tm_mday=2, tm_hour=1, tm_min=18, tm_sec=12, tm_wday=4, tm_yday=61, tm_isdst=0) 1519924692.1836648\n",
      "Keep Waiting, the time is i =  72 time.struct_time(tm_year=2018, tm_mon=3, tm_mday=2, tm_hour=1, tm_min=18, tm_sec=23, tm_wday=4, tm_yday=61, tm_isdst=0) 1519924703.3363662\n",
      "Keep Waiting, the time is i =  73 time.struct_time(tm_year=2018, tm_mon=3, tm_mday=2, tm_hour=1, tm_min=18, tm_sec=34, tm_wday=4, tm_yday=61, tm_isdst=0) 1519924714.4839191\n",
      "Keep Waiting, the time is i =  74 time.struct_time(tm_year=2018, tm_mon=3, tm_mday=2, tm_hour=1, tm_min=18, tm_sec=45, tm_wday=4, tm_yday=61, tm_isdst=0) 1519924725.636768\n",
      "Keep Waiting, the time is i =  75 time.struct_time(tm_year=2018, tm_mon=3, tm_mday=2, tm_hour=1, tm_min=18, tm_sec=56, tm_wday=4, tm_yday=61, tm_isdst=0) 1519924736.787924\n",
      "Keep Waiting, the time is i =  76 time.struct_time(tm_year=2018, tm_mon=3, tm_mday=2, tm_hour=1, tm_min=19, tm_sec=8, tm_wday=4, tm_yday=61, tm_isdst=0) 1519924748.0364008\n",
      "Keep Waiting, the time is i =  77 time.struct_time(tm_year=2018, tm_mon=3, tm_mday=2, tm_hour=1, tm_min=19, tm_sec=19, tm_wday=4, tm_yday=61, tm_isdst=0) 1519924759.187822\n",
      "Keep Waiting, the time is i =  78 time.struct_time(tm_year=2018, tm_mon=3, tm_mday=2, tm_hour=1, tm_min=19, tm_sec=30, tm_wday=4, tm_yday=61, tm_isdst=0) 1519924770.387705\n",
      "Keep Waiting, the time is i =  79 time.struct_time(tm_year=2018, tm_mon=3, tm_mday=2, tm_hour=1, tm_min=19, tm_sec=41, tm_wday=4, tm_yday=61, tm_isdst=0) 1519924781.482267\n",
      "Keep Waiting, the time is i =  80 time.struct_time(tm_year=2018, tm_mon=3, tm_mday=2, tm_hour=1, tm_min=19, tm_sec=52, tm_wday=4, tm_yday=61, tm_isdst=0) 1519924792.652488\n",
      "Keep Waiting, the time is i =  81 time.struct_time(tm_year=2018, tm_mon=3, tm_mday=2, tm_hour=1, tm_min=20, tm_sec=3, tm_wday=4, tm_yday=61, tm_isdst=0) 1519924803.7770722\n",
      "Keep Waiting, the time is i =  82 time.struct_time(tm_year=2018, tm_mon=3, tm_mday=2, tm_hour=1, tm_min=20, tm_sec=14, tm_wday=4, tm_yday=61, tm_isdst=0) 1519924814.683284\n",
      "Keep Waiting, the time is i =  83 time.struct_time(tm_year=2018, tm_mon=3, tm_mday=2, tm_hour=1, tm_min=20, tm_sec=25, tm_wday=4, tm_yday=61, tm_isdst=0) 1519924825.825629\n",
      "Keep Waiting, the time is i =  84 time.struct_time(tm_year=2018, tm_mon=3, tm_mday=2, tm_hour=1, tm_min=20, tm_sec=37, tm_wday=4, tm_yday=61, tm_isdst=0) 1519924837.1296031\n",
      "Keep Waiting, the time is i =  85 time.struct_time(tm_year=2018, tm_mon=3, tm_mday=2, tm_hour=1, tm_min=20, tm_sec=48, tm_wday=4, tm_yday=61, tm_isdst=0) 1519924848.433511\n",
      "Keep Waiting, the time is i =  86 time.struct_time(tm_year=2018, tm_mon=3, tm_mday=2, tm_hour=1, tm_min=20, tm_sec=59, tm_wday=4, tm_yday=61, tm_isdst=0) 1519924859.6303942\n",
      "Keep Waiting, the time is i =  87 time.struct_time(tm_year=2018, tm_mon=3, tm_mday=2, tm_hour=1, tm_min=21, tm_sec=10, tm_wday=4, tm_yday=61, tm_isdst=0) 1519924870.8317811\n",
      "Keep Waiting, the time is i =  88 time.struct_time(tm_year=2018, tm_mon=3, tm_mday=2, tm_hour=1, tm_min=21, tm_sec=21, tm_wday=4, tm_yday=61, tm_isdst=0) 1519924881.98513\n",
      "Keep Waiting, the time is i =  89 time.struct_time(tm_year=2018, tm_mon=3, tm_mday=2, tm_hour=1, tm_min=21, tm_sec=33, tm_wday=4, tm_yday=61, tm_isdst=0) 1519924893.230905\n",
      "Keep Waiting, the time is i =  90 time.struct_time(tm_year=2018, tm_mon=3, tm_mday=2, tm_hour=1, tm_min=21, tm_sec=44, tm_wday=4, tm_yday=61, tm_isdst=0) 1519924904.431668\n",
      "Keep Waiting, the time is i =  91 time.struct_time(tm_year=2018, tm_mon=3, tm_mday=2, tm_hour=1, tm_min=21, tm_sec=55, tm_wday=4, tm_yday=61, tm_isdst=0) 1519924915.73224\n",
      "Keep Waiting, the time is i =  92 time.struct_time(tm_year=2018, tm_mon=3, tm_mday=2, tm_hour=1, tm_min=22, tm_sec=7, tm_wday=4, tm_yday=61, tm_isdst=0) 1519924927.082536\n",
      "Keep Waiting, the time is i =  93 time.struct_time(tm_year=2018, tm_mon=3, tm_mday=2, tm_hour=1, tm_min=22, tm_sec=18, tm_wday=4, tm_yday=61, tm_isdst=0) 1519924938.2325299\n",
      "Keep Waiting, the time is i =  94 time.struct_time(tm_year=2018, tm_mon=3, tm_mday=2, tm_hour=1, tm_min=22, tm_sec=29, tm_wday=4, tm_yday=61, tm_isdst=0) 1519924949.38648\n",
      "Keep Waiting, the time is i =  95 time.struct_time(tm_year=2018, tm_mon=3, tm_mday=2, tm_hour=1, tm_min=22, tm_sec=40, tm_wday=4, tm_yday=61, tm_isdst=0) 1519924960.53295\n"
     ]
    },
    {
     "name": "stdout",
     "output_type": "stream",
     "text": [
      "Keep Waiting, the time is i =  96 time.struct_time(tm_year=2018, tm_mon=3, tm_mday=2, tm_hour=1, tm_min=22, tm_sec=51, tm_wday=4, tm_yday=61, tm_isdst=0) 1519924971.783344\n",
      "Keep Waiting, the time is i =  97 time.struct_time(tm_year=2018, tm_mon=3, tm_mday=2, tm_hour=1, tm_min=23, tm_sec=2, tm_wday=4, tm_yday=61, tm_isdst=0) 1519924982.9867148\n",
      "Keep Waiting, the time is i =  98 time.struct_time(tm_year=2018, tm_mon=3, tm_mday=2, tm_hour=1, tm_min=23, tm_sec=14, tm_wday=4, tm_yday=61, tm_isdst=0) 1519924994.1363032\n",
      "Keep Waiting, the time is i =  99 time.struct_time(tm_year=2018, tm_mon=3, tm_mday=2, tm_hour=1, tm_min=23, tm_sec=25, tm_wday=4, tm_yday=61, tm_isdst=0) 1519925005.285696\n",
      "Keep Waiting, the time is i =  100 time.struct_time(tm_year=2018, tm_mon=3, tm_mday=2, tm_hour=1, tm_min=23, tm_sec=36, tm_wday=4, tm_yday=61, tm_isdst=0) 1519925016.386485\n",
      "Keep Waiting, the time is i =  101 time.struct_time(tm_year=2018, tm_mon=3, tm_mday=2, tm_hour=1, tm_min=23, tm_sec=47, tm_wday=4, tm_yday=61, tm_isdst=0) 1519925027.445878\n",
      "Keep Waiting, the time is i =  102 time.struct_time(tm_year=2018, tm_mon=3, tm_mday=2, tm_hour=1, tm_min=23, tm_sec=58, tm_wday=4, tm_yday=61, tm_isdst=0) 1519925038.685143\n",
      "Keep Waiting, the time is i =  103 time.struct_time(tm_year=2018, tm_mon=3, tm_mday=2, tm_hour=1, tm_min=24, tm_sec=9, tm_wday=4, tm_yday=61, tm_isdst=0) 1519925049.837024\n",
      "Keep Waiting, the time is i =  104 time.struct_time(tm_year=2018, tm_mon=3, tm_mday=2, tm_hour=1, tm_min=24, tm_sec=20, tm_wday=4, tm_yday=61, tm_isdst=0) 1519925060.982183\n",
      "Keep Waiting, the time is i =  105 time.struct_time(tm_year=2018, tm_mon=3, tm_mday=2, tm_hour=1, tm_min=24, tm_sec=31, tm_wday=4, tm_yday=61, tm_isdst=0) 1519925071.698396\n",
      "Keep Waiting, the time is i =  106 time.struct_time(tm_year=2018, tm_mon=3, tm_mday=2, tm_hour=1, tm_min=24, tm_sec=42, tm_wday=4, tm_yday=61, tm_isdst=0) 1519925082.426302\n",
      "Keep Waiting, the time is i =  107 time.struct_time(tm_year=2018, tm_mon=3, tm_mday=2, tm_hour=1, tm_min=24, tm_sec=53, tm_wday=4, tm_yday=61, tm_isdst=0) 1519925093.027715\n",
      "Keep Waiting, the time is i =  108 time.struct_time(tm_year=2018, tm_mon=3, tm_mday=2, tm_hour=1, tm_min=25, tm_sec=3, tm_wday=4, tm_yday=61, tm_isdst=0) 1519925103.480727\n",
      "Keep Waiting, the time is i =  109 time.struct_time(tm_year=2018, tm_mon=3, tm_mday=2, tm_hour=1, tm_min=25, tm_sec=13, tm_wday=4, tm_yday=61, tm_isdst=0) 1519925113.8979368\n",
      "Keep Waiting, the time is i =  110 time.struct_time(tm_year=2018, tm_mon=3, tm_mday=2, tm_hour=1, tm_min=25, tm_sec=24, tm_wday=4, tm_yday=61, tm_isdst=0) 1519925124.318248\n",
      "Keep Waiting, the time is i =  111 time.struct_time(tm_year=2018, tm_mon=3, tm_mday=2, tm_hour=1, tm_min=25, tm_sec=34, tm_wday=4, tm_yday=61, tm_isdst=0) 1519925134.6930282\n",
      "Keep Waiting, the time is i =  112 time.struct_time(tm_year=2018, tm_mon=3, tm_mday=2, tm_hour=1, tm_min=25, tm_sec=45, tm_wday=4, tm_yday=61, tm_isdst=0) 1519925145.287783\n",
      "Keep Waiting, the time is i =  113 time.struct_time(tm_year=2018, tm_mon=3, tm_mday=2, tm_hour=1, tm_min=25, tm_sec=55, tm_wday=4, tm_yday=61, tm_isdst=0) 1519925155.913472\n",
      "Keep Waiting, the time is i =  114 time.struct_time(tm_year=2018, tm_mon=3, tm_mday=2, tm_hour=1, tm_min=26, tm_sec=6, tm_wday=4, tm_yday=61, tm_isdst=0) 1519925166.5301719\n",
      "Keep Waiting, the time is i =  115 time.struct_time(tm_year=2018, tm_mon=3, tm_mday=2, tm_hour=1, tm_min=26, tm_sec=17, tm_wday=4, tm_yday=61, tm_isdst=0) 1519925177.137218\n",
      "Keep Waiting, the time is i =  116 time.struct_time(tm_year=2018, tm_mon=3, tm_mday=2, tm_hour=1, tm_min=26, tm_sec=27, tm_wday=4, tm_yday=61, tm_isdst=0) 1519925187.6505659\n",
      "Keep Waiting, the time is i =  117 time.struct_time(tm_year=2018, tm_mon=3, tm_mday=2, tm_hour=1, tm_min=26, tm_sec=38, tm_wday=4, tm_yday=61, tm_isdst=0) 1519925198.219119\n",
      "Keep Waiting, the time is i =  118 time.struct_time(tm_year=2018, tm_mon=3, tm_mday=2, tm_hour=1, tm_min=26, tm_sec=48, tm_wday=4, tm_yday=61, tm_isdst=0) 1519925208.6530292\n",
      "Keep Waiting, the time is i =  119 time.struct_time(tm_year=2018, tm_mon=3, tm_mday=2, tm_hour=1, tm_min=26, tm_sec=59, tm_wday=4, tm_yday=61, tm_isdst=0) 1519925219.1351979\n",
      "Keep Waiting, the time is i =  120 time.struct_time(tm_year=2018, tm_mon=3, tm_mday=2, tm_hour=1, tm_min=27, tm_sec=9, tm_wday=4, tm_yday=61, tm_isdst=0) 1519925229.589891\n",
      "Keep Waiting, the time is i =  121 time.struct_time(tm_year=2018, tm_mon=3, tm_mday=2, tm_hour=1, tm_min=27, tm_sec=20, tm_wday=4, tm_yday=61, tm_isdst=0) 1519925240.024927\n",
      "Keep Waiting, the time is i =  122 time.struct_time(tm_year=2018, tm_mon=3, tm_mday=2, tm_hour=1, tm_min=27, tm_sec=30, tm_wday=4, tm_yday=61, tm_isdst=0) 1519925250.481554\n",
      "Keep Waiting, the time is i =  123 time.struct_time(tm_year=2018, tm_mon=3, tm_mday=2, tm_hour=1, tm_min=27, tm_sec=41, tm_wday=4, tm_yday=61, tm_isdst=0) 1519925261.021137\n",
      "Keep Waiting, the time is i =  124 time.struct_time(tm_year=2018, tm_mon=3, tm_mday=2, tm_hour=1, tm_min=27, tm_sec=51, tm_wday=4, tm_yday=61, tm_isdst=0) 1519925271.36609\n",
      "Keep Waiting, the time is i =  125 time.struct_time(tm_year=2018, tm_mon=3, tm_mday=2, tm_hour=1, tm_min=28, tm_sec=1, tm_wday=4, tm_yday=61, tm_isdst=0) 1519925281.699323\n",
      "Keep Waiting, the time is i =  126 time.struct_time(tm_year=2018, tm_mon=3, tm_mday=2, tm_hour=1, tm_min=28, tm_sec=12, tm_wday=4, tm_yday=61, tm_isdst=0) 1519925292.0246851\n",
      "Keep Waiting, the time is i =  127 time.struct_time(tm_year=2018, tm_mon=3, tm_mday=2, tm_hour=1, tm_min=28, tm_sec=22, tm_wday=4, tm_yday=61, tm_isdst=0) 1519925302.350932\n",
      "Keep Waiting, the time is i =  128 time.struct_time(tm_year=2018, tm_mon=3, tm_mday=2, tm_hour=1, tm_min=28, tm_sec=32, tm_wday=4, tm_yday=61, tm_isdst=0) 1519925312.754457\n",
      "Keep Waiting, the time is i =  129 time.struct_time(tm_year=2018, tm_mon=3, tm_mday=2, tm_hour=1, tm_min=28, tm_sec=43, tm_wday=4, tm_yday=61, tm_isdst=0) 1519925323.075352\n",
      "Keep Waiting, the time is i =  130 time.struct_time(tm_year=2018, tm_mon=3, tm_mday=2, tm_hour=1, tm_min=28, tm_sec=53, tm_wday=4, tm_yday=61, tm_isdst=0) 1519925333.406118\n",
      "Keep Waiting, the time is i =  131 time.struct_time(tm_year=2018, tm_mon=3, tm_mday=2, tm_hour=1, tm_min=29, tm_sec=3, tm_wday=4, tm_yday=61, tm_isdst=0) 1519925343.7557309\n",
      "Keep Waiting, the time is i =  132 time.struct_time(tm_year=2018, tm_mon=3, tm_mday=2, tm_hour=1, tm_min=29, tm_sec=14, tm_wday=4, tm_yday=61, tm_isdst=0) 1519925354.053749\n",
      "Keep Waiting, the time is i =  133 time.struct_time(tm_year=2018, tm_mon=3, tm_mday=2, tm_hour=1, tm_min=29, tm_sec=24, tm_wday=4, tm_yday=61, tm_isdst=0) 1519925364.356354\n",
      "Keep Waiting, the time is i =  134 time.struct_time(tm_year=2018, tm_mon=3, tm_mday=2, tm_hour=1, tm_min=29, tm_sec=34, tm_wday=4, tm_yday=61, tm_isdst=0) 1519925374.733856\n",
      "Keep Waiting, the time is i =  135 time.struct_time(tm_year=2018, tm_mon=3, tm_mday=2, tm_hour=1, tm_min=29, tm_sec=45, tm_wday=4, tm_yday=61, tm_isdst=0) 1519925385.035976\n",
      "Keep Waiting, the time is i =  136 time.struct_time(tm_year=2018, tm_mon=3, tm_mday=2, tm_hour=1, tm_min=29, tm_sec=55, tm_wday=4, tm_yday=61, tm_isdst=0) 1519925395.38183\n",
      "Keep Waiting, the time is i =  137 time.struct_time(tm_year=2018, tm_mon=3, tm_mday=2, tm_hour=1, tm_min=30, tm_sec=5, tm_wday=4, tm_yday=61, tm_isdst=0) 1519925405.7552671\n",
      "Keep Waiting, the time is i =  138 time.struct_time(tm_year=2018, tm_mon=3, tm_mday=2, tm_hour=1, tm_min=30, tm_sec=16, tm_wday=4, tm_yday=61, tm_isdst=0) 1519925416.0650392\n",
      "Keep Waiting, the time is i =  139 time.struct_time(tm_year=2018, tm_mon=3, tm_mday=2, tm_hour=1, tm_min=30, tm_sec=26, tm_wday=4, tm_yday=61, tm_isdst=0) 1519925426.339315\n",
      "Keep Waiting, the time is i =  140 time.struct_time(tm_year=2018, tm_mon=3, tm_mday=2, tm_hour=1, tm_min=30, tm_sec=36, tm_wday=4, tm_yday=61, tm_isdst=0) 1519925436.648222\n",
      "Keep Waiting, the time is i =  141 time.struct_time(tm_year=2018, tm_mon=3, tm_mday=2, tm_hour=1, tm_min=30, tm_sec=47, tm_wday=4, tm_yday=61, tm_isdst=0) 1519925447.0090601\n",
      "Keep Waiting, the time is i =  142 time.struct_time(tm_year=2018, tm_mon=3, tm_mday=2, tm_hour=1, tm_min=30, tm_sec=57, tm_wday=4, tm_yday=61, tm_isdst=0) 1519925457.32084\n",
      "Keep Waiting, the time is i =  143 time.struct_time(tm_year=2018, tm_mon=3, tm_mday=2, tm_hour=1, tm_min=31, tm_sec=7, tm_wday=4, tm_yday=61, tm_isdst=0) 1519925467.5873\n"
     ]
    },
    {
     "name": "stdout",
     "output_type": "stream",
     "text": [
      "Keep Waiting, the time is i =  144 time.struct_time(tm_year=2018, tm_mon=3, tm_mday=2, tm_hour=1, tm_min=31, tm_sec=17, tm_wday=4, tm_yday=61, tm_isdst=0) 1519925477.909973\n",
      "Keep Waiting, the time is i =  145 time.struct_time(tm_year=2018, tm_mon=3, tm_mday=2, tm_hour=1, tm_min=31, tm_sec=28, tm_wday=4, tm_yday=61, tm_isdst=0) 1519925488.2419462\n",
      "Keep Waiting, the time is i =  146 time.struct_time(tm_year=2018, tm_mon=3, tm_mday=2, tm_hour=1, tm_min=31, tm_sec=38, tm_wday=4, tm_yday=61, tm_isdst=0) 1519925498.5584068\n",
      "Keep Waiting, the time is i =  147 time.struct_time(tm_year=2018, tm_mon=3, tm_mday=2, tm_hour=1, tm_min=31, tm_sec=48, tm_wday=4, tm_yday=61, tm_isdst=0) 1519925508.8660622\n",
      "Keep Waiting, the time is i =  148 time.struct_time(tm_year=2018, tm_mon=3, tm_mday=2, tm_hour=1, tm_min=31, tm_sec=59, tm_wday=4, tm_yday=61, tm_isdst=0) 1519925519.357384\n",
      "Keep Waiting, the time is i =  149 time.struct_time(tm_year=2018, tm_mon=3, tm_mday=2, tm_hour=1, tm_min=32, tm_sec=9, tm_wday=4, tm_yday=61, tm_isdst=0) 1519925529.662795\n",
      "Keep Waiting, the time is i =  150 time.struct_time(tm_year=2018, tm_mon=3, tm_mday=2, tm_hour=1, tm_min=32, tm_sec=19, tm_wday=4, tm_yday=61, tm_isdst=0) 1519925539.9623392\n",
      "Keep Waiting, the time is i =  151 time.struct_time(tm_year=2018, tm_mon=3, tm_mday=2, tm_hour=1, tm_min=32, tm_sec=30, tm_wday=4, tm_yday=61, tm_isdst=0) 1519925550.256823\n",
      "Keep Waiting, the time is i =  152 time.struct_time(tm_year=2018, tm_mon=3, tm_mday=2, tm_hour=1, tm_min=32, tm_sec=40, tm_wday=4, tm_yday=61, tm_isdst=0) 1519925560.5544698\n",
      "Keep Waiting, the time is i =  153 time.struct_time(tm_year=2018, tm_mon=3, tm_mday=2, tm_hour=1, tm_min=32, tm_sec=50, tm_wday=4, tm_yday=61, tm_isdst=0) 1519925570.913453\n",
      "Keep Waiting, the time is i =  154 time.struct_time(tm_year=2018, tm_mon=3, tm_mday=2, tm_hour=1, tm_min=33, tm_sec=1, tm_wday=4, tm_yday=61, tm_isdst=0) 1519925581.225585\n",
      "Keep Waiting, the time is i =  155 time.struct_time(tm_year=2018, tm_mon=3, tm_mday=2, tm_hour=1, tm_min=33, tm_sec=11, tm_wday=4, tm_yday=61, tm_isdst=0) 1519925591.525841\n",
      "Keep Waiting, the time is i =  156 time.struct_time(tm_year=2018, tm_mon=3, tm_mday=2, tm_hour=1, tm_min=33, tm_sec=21, tm_wday=4, tm_yday=61, tm_isdst=0) 1519925601.823972\n",
      "Keep Waiting, the time is i =  157 time.struct_time(tm_year=2018, tm_mon=3, tm_mday=2, tm_hour=1, tm_min=33, tm_sec=32, tm_wday=4, tm_yday=61, tm_isdst=0) 1519925612.14626\n",
      "Keep Waiting, the time is i =  158 time.struct_time(tm_year=2018, tm_mon=3, tm_mday=2, tm_hour=1, tm_min=33, tm_sec=42, tm_wday=4, tm_yday=61, tm_isdst=0) 1519925622.456774\n",
      "Keep Waiting, the time is i =  159 time.struct_time(tm_year=2018, tm_mon=3, tm_mday=2, tm_hour=1, tm_min=33, tm_sec=52, tm_wday=4, tm_yday=61, tm_isdst=0) 1519925632.752814\n",
      "Keep Waiting, the time is i =  160 time.struct_time(tm_year=2018, tm_mon=3, tm_mday=2, tm_hour=1, tm_min=34, tm_sec=3, tm_wday=4, tm_yday=61, tm_isdst=0) 1519925643.073737\n",
      "Keep Waiting, the time is i =  161 time.struct_time(tm_year=2018, tm_mon=3, tm_mday=2, tm_hour=1, tm_min=34, tm_sec=13, tm_wday=4, tm_yday=61, tm_isdst=0) 1519925653.375262\n",
      "Keep Waiting, the time is i =  162 time.struct_time(tm_year=2018, tm_mon=3, tm_mday=2, tm_hour=1, tm_min=34, tm_sec=23, tm_wday=4, tm_yday=61, tm_isdst=0) 1519925663.713708\n",
      "Keep Waiting, the time is i =  163 time.struct_time(tm_year=2018, tm_mon=3, tm_mday=2, tm_hour=1, tm_min=34, tm_sec=34, tm_wday=4, tm_yday=61, tm_isdst=0) 1519925674.014302\n",
      "Keep Waiting, the time is i =  164 time.struct_time(tm_year=2018, tm_mon=3, tm_mday=2, tm_hour=1, tm_min=34, tm_sec=44, tm_wday=4, tm_yday=61, tm_isdst=0) 1519925684.333691\n",
      "Keep Waiting, the time is i =  165 time.struct_time(tm_year=2018, tm_mon=3, tm_mday=2, tm_hour=1, tm_min=34, tm_sec=54, tm_wday=4, tm_yday=61, tm_isdst=0) 1519925694.624128\n",
      "Keep Waiting, the time is i =  166 time.struct_time(tm_year=2018, tm_mon=3, tm_mday=2, tm_hour=1, tm_min=35, tm_sec=4, tm_wday=4, tm_yday=61, tm_isdst=0) 1519925704.950424\n",
      "Keep Waiting, the time is i =  167 time.struct_time(tm_year=2018, tm_mon=3, tm_mday=2, tm_hour=1, tm_min=35, tm_sec=15, tm_wday=4, tm_yday=61, tm_isdst=0) 1519925715.2712262\n",
      "Keep Waiting, the time is i =  168 time.struct_time(tm_year=2018, tm_mon=3, tm_mday=2, tm_hour=1, tm_min=35, tm_sec=25, tm_wday=4, tm_yday=61, tm_isdst=0) 1519925725.573021\n",
      "Keep Waiting, the time is i =  169 time.struct_time(tm_year=2018, tm_mon=3, tm_mday=2, tm_hour=1, tm_min=35, tm_sec=35, tm_wday=4, tm_yday=61, tm_isdst=0) 1519925735.996563\n",
      "Keep Waiting, the time is i =  170 time.struct_time(tm_year=2018, tm_mon=3, tm_mday=2, tm_hour=1, tm_min=35, tm_sec=46, tm_wday=4, tm_yday=61, tm_isdst=0) 1519925746.306334\n",
      "Keep Waiting, the time is i =  171 time.struct_time(tm_year=2018, tm_mon=3, tm_mday=2, tm_hour=1, tm_min=35, tm_sec=56, tm_wday=4, tm_yday=61, tm_isdst=0) 1519925756.603364\n",
      "Keep Waiting, the time is i =  172 time.struct_time(tm_year=2018, tm_mon=3, tm_mday=2, tm_hour=1, tm_min=36, tm_sec=6, tm_wday=4, tm_yday=61, tm_isdst=0) 1519925766.942924\n",
      "Keep Waiting, the time is i =  173 time.struct_time(tm_year=2018, tm_mon=3, tm_mday=2, tm_hour=1, tm_min=36, tm_sec=17, tm_wday=4, tm_yday=61, tm_isdst=0) 1519925777.2573519\n",
      "Keep Waiting, the time is i =  174 time.struct_time(tm_year=2018, tm_mon=3, tm_mday=2, tm_hour=1, tm_min=36, tm_sec=27, tm_wday=4, tm_yday=61, tm_isdst=0) 1519925787.572115\n",
      "Keep Waiting, the time is i =  175 time.struct_time(tm_year=2018, tm_mon=3, tm_mday=2, tm_hour=1, tm_min=36, tm_sec=38, tm_wday=4, tm_yday=61, tm_isdst=0) 1519925798.006604\n",
      "Keep Waiting, the time is i =  176 time.struct_time(tm_year=2018, tm_mon=3, tm_mday=2, tm_hour=1, tm_min=36, tm_sec=48, tm_wday=4, tm_yday=61, tm_isdst=0) 1519925808.307106\n",
      "Keep Waiting, the time is i =  177 time.struct_time(tm_year=2018, tm_mon=3, tm_mday=2, tm_hour=1, tm_min=36, tm_sec=58, tm_wday=4, tm_yday=61, tm_isdst=0) 1519925818.637136\n",
      "Keep Waiting, the time is i =  178 time.struct_time(tm_year=2018, tm_mon=3, tm_mday=2, tm_hour=1, tm_min=37, tm_sec=9, tm_wday=4, tm_yday=61, tm_isdst=0) 1519925829.105419\n",
      "Keep Waiting, the time is i =  179 time.struct_time(tm_year=2018, tm_mon=3, tm_mday=2, tm_hour=1, tm_min=37, tm_sec=19, tm_wday=4, tm_yday=61, tm_isdst=0) 1519925839.42622\n",
      "Keep Waiting, the time is i =  180 time.struct_time(tm_year=2018, tm_mon=3, tm_mday=2, tm_hour=1, tm_min=37, tm_sec=29, tm_wday=4, tm_yday=61, tm_isdst=0) 1519925849.726919\n",
      "Keep Waiting, the time is i =  181 time.struct_time(tm_year=2018, tm_mon=3, tm_mday=2, tm_hour=1, tm_min=37, tm_sec=40, tm_wday=4, tm_yday=61, tm_isdst=0) 1519925860.0402691\n",
      "Keep Waiting, the time is i =  182 time.struct_time(tm_year=2018, tm_mon=3, tm_mday=2, tm_hour=1, tm_min=37, tm_sec=50, tm_wday=4, tm_yday=61, tm_isdst=0) 1519925870.354651\n",
      "Keep Waiting, the time is i =  183 time.struct_time(tm_year=2018, tm_mon=3, tm_mday=2, tm_hour=1, tm_min=38, tm_sec=0, tm_wday=4, tm_yday=61, tm_isdst=0) 1519925880.7151601\n",
      "Keep Waiting, the time is i =  184 time.struct_time(tm_year=2018, tm_mon=3, tm_mday=2, tm_hour=1, tm_min=38, tm_sec=11, tm_wday=4, tm_yday=61, tm_isdst=0) 1519925891.0136828\n",
      "Keep Waiting, the time is i =  185 time.struct_time(tm_year=2018, tm_mon=3, tm_mday=2, tm_hour=1, tm_min=38, tm_sec=21, tm_wday=4, tm_yday=61, tm_isdst=0) 1519925901.360647\n",
      "Keep Waiting, the time is i =  186 time.struct_time(tm_year=2018, tm_mon=3, tm_mday=2, tm_hour=1, tm_min=38, tm_sec=31, tm_wday=4, tm_yday=61, tm_isdst=0) 1519925911.6556711\n",
      "Keep Waiting, the time is i =  187 time.struct_time(tm_year=2018, tm_mon=3, tm_mday=2, tm_hour=1, tm_min=38, tm_sec=42, tm_wday=4, tm_yday=61, tm_isdst=0) 1519925922.0067399\n",
      "Keep Waiting, the time is i =  188 time.struct_time(tm_year=2018, tm_mon=3, tm_mday=2, tm_hour=1, tm_min=38, tm_sec=52, tm_wday=4, tm_yday=61, tm_isdst=0) 1519925932.588104\n",
      "Keep Waiting, the time is i =  189 time.struct_time(tm_year=2018, tm_mon=3, tm_mday=2, tm_hour=1, tm_min=39, tm_sec=2, tm_wday=4, tm_yday=61, tm_isdst=0) 1519925942.905053\n",
      "Keep Waiting, the time is i =  190 time.struct_time(tm_year=2018, tm_mon=3, tm_mday=2, tm_hour=1, tm_min=39, tm_sec=13, tm_wday=4, tm_yday=61, tm_isdst=0) 1519925953.2060459\n",
      "Keep Waiting, the time is i =  191 time.struct_time(tm_year=2018, tm_mon=3, tm_mday=2, tm_hour=1, tm_min=39, tm_sec=23, tm_wday=4, tm_yday=61, tm_isdst=0) 1519925963.50824\n"
     ]
    },
    {
     "name": "stdout",
     "output_type": "stream",
     "text": [
      "Keep Waiting, the time is i =  192 time.struct_time(tm_year=2018, tm_mon=3, tm_mday=2, tm_hour=1, tm_min=39, tm_sec=33, tm_wday=4, tm_yday=61, tm_isdst=0) 1519925973.808052\n",
      "Keep Waiting, the time is i =  193 time.struct_time(tm_year=2018, tm_mon=3, tm_mday=2, tm_hour=1, tm_min=39, tm_sec=44, tm_wday=4, tm_yday=61, tm_isdst=0) 1519925984.108232\n",
      "Keep Waiting, the time is i =  194 time.struct_time(tm_year=2018, tm_mon=3, tm_mday=2, tm_hour=1, tm_min=39, tm_sec=54, tm_wday=4, tm_yday=61, tm_isdst=0) 1519925994.407187\n",
      "Keep Waiting, the time is i =  195 time.struct_time(tm_year=2018, tm_mon=3, tm_mday=2, tm_hour=1, tm_min=40, tm_sec=4, tm_wday=4, tm_yday=61, tm_isdst=0) 1519926004.706433\n",
      "Keep Waiting, the time is i =  196 time.struct_time(tm_year=2018, tm_mon=3, tm_mday=2, tm_hour=1, tm_min=40, tm_sec=14, tm_wday=4, tm_yday=61, tm_isdst=0) 1519926014.9960132\n",
      "Keep Waiting, the time is i =  197 time.struct_time(tm_year=2018, tm_mon=3, tm_mday=2, tm_hour=1, tm_min=40, tm_sec=25, tm_wday=4, tm_yday=61, tm_isdst=0) 1519926025.297036\n",
      "Keep Waiting, the time is i =  198 time.struct_time(tm_year=2018, tm_mon=3, tm_mday=2, tm_hour=1, tm_min=40, tm_sec=35, tm_wday=4, tm_yday=61, tm_isdst=0) 1519926035.604599\n",
      "Keep Waiting, the time is i =  199 time.struct_time(tm_year=2018, tm_mon=3, tm_mday=2, tm_hour=1, tm_min=40, tm_sec=45, tm_wday=4, tm_yday=61, tm_isdst=0) 1519926045.945617\n",
      "Keep Waiting, the time is i =  200 time.struct_time(tm_year=2018, tm_mon=3, tm_mday=2, tm_hour=1, tm_min=40, tm_sec=56, tm_wday=4, tm_yday=61, tm_isdst=0) 1519926056.2448928\n",
      "Keep Waiting, the time is i =  201 time.struct_time(tm_year=2018, tm_mon=3, tm_mday=2, tm_hour=1, tm_min=41, tm_sec=6, tm_wday=4, tm_yday=61, tm_isdst=0) 1519926066.541026\n",
      "Keep Waiting, the time is i =  202 time.struct_time(tm_year=2018, tm_mon=3, tm_mday=2, tm_hour=1, tm_min=41, tm_sec=16, tm_wday=4, tm_yday=61, tm_isdst=0) 1519926076.825999\n",
      "Keep Waiting, the time is i =  203 time.struct_time(tm_year=2018, tm_mon=3, tm_mday=2, tm_hour=1, tm_min=41, tm_sec=27, tm_wday=4, tm_yday=61, tm_isdst=0) 1519926087.24535\n",
      "Keep Waiting, the time is i =  204 time.struct_time(tm_year=2018, tm_mon=3, tm_mday=2, tm_hour=1, tm_min=41, tm_sec=37, tm_wday=4, tm_yday=61, tm_isdst=0) 1519926097.529427\n",
      "Keep Waiting, the time is i =  205 time.struct_time(tm_year=2018, tm_mon=3, tm_mday=2, tm_hour=1, tm_min=41, tm_sec=47, tm_wday=4, tm_yday=61, tm_isdst=0) 1519926107.773804\n"
     ]
    },
    {
     "ename": "KeyboardInterrupt",
     "evalue": "",
     "output_type": "error",
     "traceback": [
      "\u001b[0;31m---------------------------------------------------------------------------\u001b[0m",
      "\u001b[0;31mKeyboardInterrupt\u001b[0m                         Traceback (most recent call last)",
      "\u001b[0;32m<ipython-input-6-d5eff5a298f1>\u001b[0m in \u001b[0;36m<module>\u001b[0;34m()\u001b[0m\n\u001b[1;32m      7\u001b[0m     \u001b[0;32melse\u001b[0m \u001b[0;34m:\u001b[0m\u001b[0;34m\u001b[0m\u001b[0m\n\u001b[1;32m      8\u001b[0m         \u001b[0mprint\u001b[0m \u001b[0;34m(\u001b[0m\u001b[0;34m\"Keep Waiting, the time is i = \"\u001b[0m\u001b[0;34m,\u001b[0m\u001b[0mi\u001b[0m\u001b[0;34m,\u001b[0m \u001b[0mtime\u001b[0m\u001b[0;34m.\u001b[0m\u001b[0mlocaltime\u001b[0m\u001b[0;34m(\u001b[0m\u001b[0mcurrent_time\u001b[0m\u001b[0;34m)\u001b[0m\u001b[0;34m,\u001b[0m\u001b[0mcurrent_time\u001b[0m\u001b[0;34m)\u001b[0m\u001b[0;34m\u001b[0m\u001b[0m\n\u001b[0;32m----> 9\u001b[0;31m     \u001b[0msleep\u001b[0m\u001b[0;34m(\u001b[0m\u001b[0msleep_sec\u001b[0m\u001b[0;34m)\u001b[0m\u001b[0;34m\u001b[0m\u001b[0m\n\u001b[0m\u001b[1;32m     10\u001b[0m \u001b[0;34m\u001b[0m\u001b[0m\n",
      "\u001b[0;31mKeyboardInterrupt\u001b[0m: "
     ]
    }
   ],
   "source": [
    "for i in range(times):\n",
    "    flag = select_proc()\n",
    "    current_time = time.time()\n",
    "    if flag == True:\n",
    "        print (\"Successfully Selected, the time is i = \",i, time.localtime(current_time),current_time)\n",
    "        break\n",
    "    else :\n",
    "        print (\"Keep Waiting, the time is i = \",i, time.localtime(current_time),current_time)\n",
    "    sleep(sleep_sec)\n",
    "        "
   ]
  },
  {
   "cell_type": "markdown",
   "metadata": {},
   "source": [
    "下一步跟確認掛號都算是簡單的\n",
    "如果有成功掛號(即flag為true)\n",
    "只要抓到id繼續click就可以了\n",
    "\n",
    "<input type=\"submit\" name=\"ctl00$ContentPlaceHolder1$btnNext\" value=\"下一步\" onclick=\"return checkModify();\" id=\"ctl00_ContentPlaceHolder1_btnNext\" class=\"btn01\">\n",
    "\n",
    "確認掛號語法\n",
    "\n",
    "<input type=\"submit\" name=\"ctl00$ContentPlaceHolder1$btnSave\" value=\"確定掛號\" id=\"ctl00_ContentPlaceHolder1_btnSave\" class=\"btn01\">"
   ]
  },
  {
   "cell_type": "code",
   "execution_count": null,
   "metadata": {},
   "outputs": [],
   "source": [
    "if flag == True:\n",
    "    try:\n",
    "        sel.find_element_by_id(\"ctl00_ContentPlaceHolder1_btnNext\").click()\n",
    "        print (\"Successfully Next Step!\")\n",
    "    except BaseException:\n",
    "        print (\"Cannot Press Next step!\")\n",
    "    try:\n",
    "        sel.find_element_by_id(\"ctl00_ContentPlaceHolder1_btnSave\").click()\n",
    "        print (\"Successfully Saved!\")\n",
    "    except BaseException:\n",
    "        print (\"Cannot save\")\n",
    "    if '應用程式中發生伺服器錯誤' not in sel.page_source:\n",
    "        print (\"Congratulation!!! Your reservation is done!\")\n",
    "    else:\n",
    "        print (\"The website error!\")\n",
    "else:\n",
    "    print (\"Sorry >_< all the doctors are reserved!\")"
   ]
  },
  {
   "cell_type": "code",
   "execution_count": null,
   "metadata": {},
   "outputs": [],
   "source": [
    "localtime = time.localtime(time.time())\n",
    "print (\"Current Time is\"+str(localtime))"
   ]
  }
 ],
 "metadata": {
  "kernelspec": {
   "display_name": "Python 3",
   "language": "python",
   "name": "python3"
  },
  "language_info": {
   "codemirror_mode": {
    "name": "ipython",
    "version": 3
   },
   "file_extension": ".py",
   "mimetype": "text/x-python",
   "name": "python",
   "nbconvert_exporter": "python",
   "pygments_lexer": "ipython3",
   "version": "3.6.1"
  }
 },
 "nbformat": 4,
 "nbformat_minor": 2
}
