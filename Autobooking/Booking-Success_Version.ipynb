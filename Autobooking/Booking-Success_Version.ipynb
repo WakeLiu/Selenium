{
 "cells": [
  {
   "cell_type": "markdown",
   "metadata": {},
   "source": [
    "This project is to book a clinic through python selenium\n",
    "Author : Wake Liu"
   ]
  },
  {
   "cell_type": "code",
   "execution_count": 1,
   "metadata": {
    "collapsed": true
   },
   "outputs": [],
   "source": [
    "from selenium import webdriver\n",
    "from selenium.webdriver.common.keys import Keys\n",
    "from time import sleep\n",
    "import time\n",
    "\n",
    "clock_setting = True\n",
    "hour = 23\n",
    "minute = 59\n",
    "sec = 59\n",
    "times = 9\n",
    "interval = 0.6"
   ]
  },
  {
   "cell_type": "markdown",
   "metadata": {},
   "source": [
    "由於每個ID都是獨立的，我們可以在頁面中找到自己要的ID資訊。\n",
    "以輕鬆美膚網為例，在登入時所需要的資料為ID, Password, Login, 從網站原始碼截取的資訊如下"
   ]
  },
  {
   "cell_type": "code",
   "execution_count": 2,
   "metadata": {
    "collapsed": true
   },
   "outputs": [],
   "source": [
    "def login_proc(username, password):\n",
    "    login_url = \"https://www.ezskin.com.tw/member/member_login.aspx\"\n",
    "    sel = webdriver.Chrome()\n",
    "    sel.get(\"https://www.ezskin.com.tw/member/member_login.aspx\")\n",
    "    # sign in the username\n",
    "    try:\n",
    "        user_input = sel.find_element_by_id(\"ctl00_ContentPlaceHolder1_txtUserID\")\n",
    "        user_input.clear()\n",
    "        user_input.send_keys(username)\n",
    "        print ('user-id write success!')\n",
    "    except:\n",
    "        print ('user-id write error!')\n",
    "    # sign in the pasword\n",
    "    try:\n",
    "        pwd_input = sel.find_element_by_id(\"ctl00_ContentPlaceHolder1_txtPassword\")\n",
    "        pwd_input.clear()\n",
    "        pwd_input.send_keys(password)\n",
    "        print ('pw write success!')\n",
    "    except:\n",
    "        print ('pw write error!')\n",
    "    # Check for Login success\n",
    "    try:\n",
    "        sel.find_element_by_id(\"ctl00_ContentPlaceHolder1_btnLogin\").click()\n",
    "    except:\n",
    "        print ('Login Failed')\n",
    "\n",
    "    while True:\n",
    "        curpage_url = sel.current_url\n",
    "        if curpage_url != login_url:\n",
    "            if curpage_url[:-1] != login_url:  # choose wrong verify_pic\n",
    "                print ('Login finished!')\n",
    "                break\n",
    "        else:\n",
    "            time.sleep(5)\n",
    "            print ('Login Failed!')\n",
    "    return sel"
   ]
  },
  {
   "cell_type": "code",
   "execution_count": 3,
   "metadata": {},
   "outputs": [
    {
     "name": "stdout",
     "output_type": "stream",
     "text": [
      "user-id write success!\n",
      "pw write success!\n",
      "Login finished!\n"
     ]
    }
   ],
   "source": [
    "sel = login_proc(\"F227268068\", \"lovewake2018\")"
   ]
  },
  {
   "cell_type": "markdown",
   "metadata": {},
   "source": [
    "Since 門診掛號沒有id,這邊用Xpath的方式將該element 找到\n",
    "Find the Xpath of 門診掛號"
   ]
  },
  {
   "cell_type": "code",
   "execution_count": 4,
   "metadata": {
    "collapsed": true
   },
   "outputs": [],
   "source": [
    "try:\n",
    "    sel.find_element_by_xpath('//*[@id=\"body\"]/div[4]/div[2]/div[1]/div/div[2]/table/tbody/tr/td/table/tbody/tr[4]/td/div/input').click()\n",
    "except BaseException:\n",
    "    print (\"無法門診掛號\")"
   ]
  },
  {
   "cell_type": "markdown",
   "metadata": {},
   "source": [
    "仔細觀察，該checkbox有固定的格式\n",
    "由於不確定之後是109還是110所以兩個都進行檢查\n",
    "如果有出現該id就直接click然後break 離開迴圈"
   ]
  },
  {
   "cell_type": "code",
   "execution_count": 5,
   "metadata": {
    "collapsed": true
   },
   "outputs": [],
   "source": [
    "def select_proc():\n",
    "    flag = 0\n",
    "    try:\n",
    "        sel.refresh()\n",
    "        #a = 1\n",
    "    except:\n",
    "        print (\"Cannot Access this website\")\n",
    "    if '3/19' in sel.page_source:\n",
    "        print ('3/19 is in the page')\n",
    "    for i in range (1,4):\n",
    "        checkbox = 'ctl00_ContentPlaceHolder1_dbOutpatient_ctl09_chkSelect'+str(i)\n",
    "        try:   \n",
    "            sel.find_element_by_id(checkbox).click()\n",
    "            flag = 1\n",
    "            break\n",
    "        except BaseException:\n",
    "            continue\n",
    "            #print(checkbox + \" element not exist\")\n",
    "    return flag"
   ]
  },
  {
   "cell_type": "markdown",
   "metadata": {},
   "source": [
    "##### 這個步驟是等待，我們只有在23時59分59秒才需要開啟該程式，其他時間都可以休息\n",
    "如果不確定localtime的語法可以輸入\n",
    "print (\"本地时间为 :\", localtime)"
   ]
  },
  {
   "cell_type": "code",
   "execution_count": 6,
   "metadata": {},
   "outputs": [
    {
     "name": "stdout",
     "output_type": "stream",
     "text": [
      "22 3 8\n",
      "23 3 8\n",
      "23 4 8\n",
      "23 5 8\n",
      "23 6 8\n",
      "23 7 8\n",
      "23 8 8\n",
      "23 9 8\n",
      "23 10 8\n",
      "23 11 8\n",
      "23 12 8\n",
      "23 13 8\n",
      "23 14 8\n",
      "23 15 8\n",
      "23 16 8\n",
      "23 17 8\n",
      "23 18 8\n",
      "23 19 8\n",
      "23 20 8\n",
      "23 21 8\n",
      "23 22 8\n",
      "23 23 8\n",
      "23 24 8\n",
      "23 25 8\n",
      "23 26 8\n",
      "23 27 8\n",
      "23 28 8\n",
      "23 29 8\n",
      "23 30 8\n",
      "23 31 8\n",
      "23 32 8\n",
      "23 33 8\n",
      "23 34 8\n",
      "23 35 8\n",
      "23 36 8\n",
      "23 37 8\n",
      "23 38 8\n",
      "23 39 8\n",
      "23 40 8\n",
      "23 41 8\n",
      "23 42 8\n",
      "23 43 8\n",
      "23 44 8\n",
      "23 45 8\n",
      "23 46 8\n",
      "23 47 8\n",
      "23 48 8\n",
      "23 49 8\n",
      "23 50 8\n",
      "23 51 8\n",
      "23 52 8\n",
      "23 53 8\n",
      "23 54 8\n",
      "23 55 8\n",
      "23 56 8\n",
      "23 57 8\n",
      "23 58 8\n",
      "23 59 8\n",
      "23 59 9\n",
      "23 59 10\n",
      "23 59 11\n",
      "23 59 12\n",
      "23 59 13\n",
      "23 59 14\n",
      "23 59 15\n",
      "23 59 16\n",
      "23 59 17\n",
      "23 59 18\n",
      "23 59 19\n",
      "23 59 20\n",
      "23 59 21\n",
      "23 59 22\n",
      "23 59 23\n",
      "23 59 24\n",
      "23 59 25\n",
      "23 59 26\n",
      "23 59 27\n",
      "23 59 28\n",
      "23 59 29\n",
      "23 59 30\n",
      "23 59 31\n",
      "23 59 32\n",
      "23 59 33\n",
      "23 59 34\n",
      "23 59 35\n",
      "23 59 36\n",
      "23 59 37\n",
      "23 59 38\n",
      "23 59 39\n",
      "23 59 40\n",
      "23 59 41\n",
      "23 59 42\n",
      "23 59 43\n",
      "23 59 44\n",
      "23 59 45\n",
      "23 59 46\n",
      "23 59 47\n",
      "23 59 48\n",
      "23 59 49\n",
      "23 59 50\n",
      "23 59 51\n",
      "23 59 52\n",
      "23 59 53\n",
      "23 59 54\n",
      "23 59 55\n",
      "23 59 56\n",
      "23 59 57\n",
      "23 59 58\n"
     ]
    }
   ],
   "source": [
    "#print (\"localtime :\", localtime)\n",
    "\n",
    "while(clock_setting):\n",
    "    localtime = time.localtime(time.time())\n",
    "    if localtime.tm_hour == hour and localtime.tm_min == minute and localtime.tm_sec == sec:\n",
    "        while(1):\n",
    "            localtime = time.localtime(time.time())\n",
    "            if localtime.tm_sec == (sec+1)%60 :\n",
    "                sleep(interval)\n",
    "                break\n",
    "        break\n",
    "    print (localtime.tm_hour,localtime.tm_min,localtime.tm_sec)\n",
    "    if localtime.tm_hour != hour:\n",
    "        sleep(3600)\n",
    "    elif localtime.tm_min != minute:\n",
    "        sleep(60)\n",
    "    else:\n",
    "        sleep(1)\n",
    "\n"
   ]
  },
  {
   "cell_type": "markdown",
   "metadata": {},
   "source": [
    "## 等待\n",
    "\n",
    "執行為期2秒鐘的等待時間\n",
    "每隔0.2秒刷新網頁"
   ]
  },
  {
   "cell_type": "code",
   "execution_count": 7,
   "metadata": {},
   "outputs": [
    {
     "name": "stdout",
     "output_type": "stream",
     "text": [
      "3/19 is in the page\n",
      "Keep Waiting, the time is i =  0 time.struct_time(tm_year=2018, tm_mon=3, tm_mday=13, tm_hour=0, tm_min=0, tm_sec=4, tm_wday=1, tm_yday=72, tm_isdst=0) 1520870404.290087\n",
      "3/19 is in the page\n",
      "Keep Waiting, the time is i =  1 time.struct_time(tm_year=2018, tm_mon=3, tm_mday=13, tm_hour=0, tm_min=0, tm_sec=6, tm_wday=1, tm_yday=72, tm_isdst=0) 1520870406.143831\n",
      "3/19 is in the page\n",
      "Keep Waiting, the time is i =  2 time.struct_time(tm_year=2018, tm_mon=3, tm_mday=13, tm_hour=0, tm_min=0, tm_sec=7, tm_wday=1, tm_yday=72, tm_isdst=0) 1520870407.682208\n",
      "3/19 is in the page\n",
      "Keep Waiting, the time is i =  3 time.struct_time(tm_year=2018, tm_mon=3, tm_mday=13, tm_hour=0, tm_min=0, tm_sec=8, tm_wday=1, tm_yday=72, tm_isdst=0) 1520870408.91873\n",
      "3/19 is in the page\n",
      "Keep Waiting, the time is i =  4 time.struct_time(tm_year=2018, tm_mon=3, tm_mday=13, tm_hour=0, tm_min=0, tm_sec=10, tm_wday=1, tm_yday=72, tm_isdst=0) 1520870410.137069\n",
      "3/19 is in the page\n",
      "Keep Waiting, the time is i =  5 time.struct_time(tm_year=2018, tm_mon=3, tm_mday=13, tm_hour=0, tm_min=0, tm_sec=10, tm_wday=1, tm_yday=72, tm_isdst=0) 1520870410.793598\n",
      "3/19 is in the page\n",
      "Successfully Selected, the time is i =  6 time.struct_time(tm_year=2018, tm_mon=3, tm_mday=13, tm_hour=0, tm_min=0, tm_sec=11, tm_wday=1, tm_yday=72, tm_isdst=0) 1520870411.833741\n"
     ]
    }
   ],
   "source": [
    "for i in range(times):\n",
    "    flag = select_proc()\n",
    "    current_time = time.time()\n",
    "    if flag == True:\n",
    "        print (\"Successfully Selected, the time is i = \",i, time.localtime(current_time),current_time)\n",
    "        break\n",
    "    else :\n",
    "        print (\"Keep Waiting, the time is i = \",i, time.localtime(current_time),current_time)\n",
    "        "
   ]
  },
  {
   "cell_type": "markdown",
   "metadata": {},
   "source": [
    "下一步跟確認掛號都算是簡單的\n",
    "如果有成功掛號(即flag為true)\n",
    "只要抓到id繼續click就可以了\n",
    "\n",
    "<input type=\"submit\" name=\"ctl00$ContentPlaceHolder1$btnNext\" value=\"下一步\" onclick=\"return checkModify();\" id=\"ctl00_ContentPlaceHolder1_btnNext\" class=\"btn01\">\n",
    "\n",
    "確認掛號語法\n",
    "\n",
    "<input type=\"submit\" name=\"ctl00$ContentPlaceHolder1$btnSave\" value=\"確定掛號\" id=\"ctl00_ContentPlaceHolder1_btnSave\" class=\"btn01\">"
   ]
  },
  {
   "cell_type": "code",
   "execution_count": 8,
   "metadata": {},
   "outputs": [
    {
     "name": "stdout",
     "output_type": "stream",
     "text": [
      "Successfully Next Step!\n",
      "Successfully Saved!\n"
     ]
    },
    {
     "ename": "UnexpectedAlertPresentException",
     "evalue": "Alert Text: None\nMessage: unexpected alert open: {Alert text : 您已經在此門診掛號}\n  (Session info: chrome=64.0.3282.186)\n  (Driver info: chromedriver=2.35.528157 (4429ca2590d6988c0745c24c8858745aaaec01ef),platform=Mac OS X 10.13.2 x86_64)\n",
     "output_type": "error",
     "traceback": [
      "\u001b[0;31m---------------------------------------------------------------------------\u001b[0m",
      "\u001b[0;31mUnexpectedAlertPresentException\u001b[0m           Traceback (most recent call last)",
      "\u001b[0;32m<ipython-input-8-a9e27ef17f8c>\u001b[0m in \u001b[0;36m<module>\u001b[0;34m()\u001b[0m\n\u001b[1;32m     10\u001b[0m     \u001b[0;32mexcept\u001b[0m \u001b[0mBaseException\u001b[0m\u001b[0;34m:\u001b[0m\u001b[0;34m\u001b[0m\u001b[0m\n\u001b[1;32m     11\u001b[0m         \u001b[0mprint\u001b[0m \u001b[0;34m(\u001b[0m\u001b[0;34m\"Cannot save\"\u001b[0m\u001b[0;34m)\u001b[0m\u001b[0;34m\u001b[0m\u001b[0m\n\u001b[0;32m---> 12\u001b[0;31m     \u001b[0;32mif\u001b[0m \u001b[0;34m'應用程式中發生伺服器錯誤'\u001b[0m \u001b[0;32mnot\u001b[0m \u001b[0;32min\u001b[0m \u001b[0msel\u001b[0m\u001b[0;34m.\u001b[0m\u001b[0mpage_source\u001b[0m\u001b[0;34m:\u001b[0m\u001b[0;34m\u001b[0m\u001b[0m\n\u001b[0m\u001b[1;32m     13\u001b[0m         \u001b[0mprint\u001b[0m \u001b[0;34m(\u001b[0m\u001b[0;34m\"Congratulation!!! Your reservation is done!\"\u001b[0m\u001b[0;34m)\u001b[0m\u001b[0;34m\u001b[0m\u001b[0m\n\u001b[1;32m     14\u001b[0m     \u001b[0;32melse\u001b[0m\u001b[0;34m:\u001b[0m\u001b[0;34m\u001b[0m\u001b[0m\n",
      "\u001b[0;32m/Users/wakeliu/anaconda/lib/python3.6/site-packages/selenium/webdriver/remote/webdriver.py\u001b[0m in \u001b[0;36mpage_source\u001b[0;34m(self)\u001b[0m\n\u001b[1;32m    668\u001b[0m             \u001b[0mdriver\u001b[0m\u001b[0;34m.\u001b[0m\u001b[0mpage_source\u001b[0m\u001b[0;34m\u001b[0m\u001b[0m\n\u001b[1;32m    669\u001b[0m         \"\"\"\n\u001b[0;32m--> 670\u001b[0;31m         \u001b[0;32mreturn\u001b[0m \u001b[0mself\u001b[0m\u001b[0;34m.\u001b[0m\u001b[0mexecute\u001b[0m\u001b[0;34m(\u001b[0m\u001b[0mCommand\u001b[0m\u001b[0;34m.\u001b[0m\u001b[0mGET_PAGE_SOURCE\u001b[0m\u001b[0;34m)\u001b[0m\u001b[0;34m[\u001b[0m\u001b[0;34m'value'\u001b[0m\u001b[0;34m]\u001b[0m\u001b[0;34m\u001b[0m\u001b[0m\n\u001b[0m\u001b[1;32m    671\u001b[0m \u001b[0;34m\u001b[0m\u001b[0m\n\u001b[1;32m    672\u001b[0m     \u001b[0;32mdef\u001b[0m \u001b[0mclose\u001b[0m\u001b[0;34m(\u001b[0m\u001b[0mself\u001b[0m\u001b[0;34m)\u001b[0m\u001b[0;34m:\u001b[0m\u001b[0;34m\u001b[0m\u001b[0m\n",
      "\u001b[0;32m/Users/wakeliu/anaconda/lib/python3.6/site-packages/selenium/webdriver/remote/webdriver.py\u001b[0m in \u001b[0;36mexecute\u001b[0;34m(self, driver_command, params)\u001b[0m\n\u001b[1;32m    310\u001b[0m         \u001b[0mresponse\u001b[0m \u001b[0;34m=\u001b[0m \u001b[0mself\u001b[0m\u001b[0;34m.\u001b[0m\u001b[0mcommand_executor\u001b[0m\u001b[0;34m.\u001b[0m\u001b[0mexecute\u001b[0m\u001b[0;34m(\u001b[0m\u001b[0mdriver_command\u001b[0m\u001b[0;34m,\u001b[0m \u001b[0mparams\u001b[0m\u001b[0;34m)\u001b[0m\u001b[0;34m\u001b[0m\u001b[0m\n\u001b[1;32m    311\u001b[0m         \u001b[0;32mif\u001b[0m \u001b[0mresponse\u001b[0m\u001b[0;34m:\u001b[0m\u001b[0;34m\u001b[0m\u001b[0m\n\u001b[0;32m--> 312\u001b[0;31m             \u001b[0mself\u001b[0m\u001b[0;34m.\u001b[0m\u001b[0merror_handler\u001b[0m\u001b[0;34m.\u001b[0m\u001b[0mcheck_response\u001b[0m\u001b[0;34m(\u001b[0m\u001b[0mresponse\u001b[0m\u001b[0;34m)\u001b[0m\u001b[0;34m\u001b[0m\u001b[0m\n\u001b[0m\u001b[1;32m    313\u001b[0m             response['value'] = self._unwrap_value(\n\u001b[1;32m    314\u001b[0m                 response.get('value', None))\n",
      "\u001b[0;32m/Users/wakeliu/anaconda/lib/python3.6/site-packages/selenium/webdriver/remote/errorhandler.py\u001b[0m in \u001b[0;36mcheck_response\u001b[0;34m(self, response)\u001b[0m\n\u001b[1;32m    239\u001b[0m             \u001b[0;32melif\u001b[0m \u001b[0;34m'alert'\u001b[0m \u001b[0;32min\u001b[0m \u001b[0mvalue\u001b[0m\u001b[0;34m:\u001b[0m\u001b[0;34m\u001b[0m\u001b[0m\n\u001b[1;32m    240\u001b[0m                 \u001b[0malert_text\u001b[0m \u001b[0;34m=\u001b[0m \u001b[0mvalue\u001b[0m\u001b[0;34m[\u001b[0m\u001b[0;34m'alert'\u001b[0m\u001b[0;34m]\u001b[0m\u001b[0;34m.\u001b[0m\u001b[0mget\u001b[0m\u001b[0;34m(\u001b[0m\u001b[0;34m'text'\u001b[0m\u001b[0;34m)\u001b[0m\u001b[0;34m\u001b[0m\u001b[0m\n\u001b[0;32m--> 241\u001b[0;31m             \u001b[0;32mraise\u001b[0m \u001b[0mexception_class\u001b[0m\u001b[0;34m(\u001b[0m\u001b[0mmessage\u001b[0m\u001b[0;34m,\u001b[0m \u001b[0mscreen\u001b[0m\u001b[0;34m,\u001b[0m \u001b[0mstacktrace\u001b[0m\u001b[0;34m,\u001b[0m \u001b[0malert_text\u001b[0m\u001b[0;34m)\u001b[0m\u001b[0;34m\u001b[0m\u001b[0m\n\u001b[0m\u001b[1;32m    242\u001b[0m         \u001b[0;32mraise\u001b[0m \u001b[0mexception_class\u001b[0m\u001b[0;34m(\u001b[0m\u001b[0mmessage\u001b[0m\u001b[0;34m,\u001b[0m \u001b[0mscreen\u001b[0m\u001b[0;34m,\u001b[0m \u001b[0mstacktrace\u001b[0m\u001b[0;34m)\u001b[0m\u001b[0;34m\u001b[0m\u001b[0m\n\u001b[1;32m    243\u001b[0m \u001b[0;34m\u001b[0m\u001b[0m\n",
      "\u001b[0;31mUnexpectedAlertPresentException\u001b[0m: Alert Text: None\nMessage: unexpected alert open: {Alert text : 您已經在此門診掛號}\n  (Session info: chrome=64.0.3282.186)\n  (Driver info: chromedriver=2.35.528157 (4429ca2590d6988c0745c24c8858745aaaec01ef),platform=Mac OS X 10.13.2 x86_64)\n"
     ]
    }
   ],
   "source": [
    "if flag == True:\n",
    "    try:\n",
    "        sel.find_element_by_id(\"ctl00_ContentPlaceHolder1_btnNext\").click()\n",
    "        print (\"Successfully Next Step!\")\n",
    "    except BaseException:\n",
    "        print (\"Cannot Press Next step!\")\n",
    "    try:\n",
    "        sel.find_element_by_id(\"ctl00_ContentPlaceHolder1_btnSave\").click()\n",
    "        print (\"Successfully Saved!\")\n",
    "    except BaseException:\n",
    "        print (\"Cannot save\")\n",
    "    if '應用程式中發生伺服器錯誤' not in sel.page_source:\n",
    "        print (\"Congratulation!!! Your reservation is done!\")\n",
    "    else:\n",
    "        print (\"The website error!\")\n",
    "else:\n",
    "    print (\"Sorry >_< all the doctors are reserved!\")"
   ]
  },
  {
   "cell_type": "code",
   "execution_count": null,
   "metadata": {},
   "outputs": [],
   "source": [
    "localtime = time.localtime(time.time())\n",
    "print (\"Current Time is\"+str(localtime))"
   ]
  }
 ],
 "metadata": {
  "kernelspec": {
   "display_name": "Python 3",
   "language": "python",
   "name": "python3"
  },
  "language_info": {
   "codemirror_mode": {
    "name": "ipython",
    "version": 3
   },
   "file_extension": ".py",
   "mimetype": "text/x-python",
   "name": "python",
   "nbconvert_exporter": "python",
   "pygments_lexer": "ipython3",
   "version": "3.6.1"
  }
 },
 "nbformat": 4,
 "nbformat_minor": 2
}
