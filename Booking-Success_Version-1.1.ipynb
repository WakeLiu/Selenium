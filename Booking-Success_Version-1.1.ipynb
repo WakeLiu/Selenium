{
 "cells": [
  {
   "cell_type": "markdown",
   "metadata": {},
   "source": [
    "# Booking to EZskin\n",
    "\n",
    "This project is to book a clinic through python selenium\n",
    "\n",
    "Author : Wake Liu\n",
    "\n",
    "<table>\n",
    "<td>\n",
    "<img src=\"pic1.png\" style=\"width:300;height:450px;\">\n",
    "\n",
    "</td>\n",
    "\n",
    "</table>\n",
    "\n",
    "- clock_setting: 若為False，直接執行該程式\n",
    "- times:重刷次數\n",
    "- interval等待時間"
   ]
  },
  {
   "cell_type": "code",
   "execution_count": 1,
   "metadata": {
    "collapsed": true
   },
   "outputs": [],
   "source": [
    "from selenium import webdriver\n",
    "from selenium.webdriver.common.keys import Keys\n",
    "from time import sleep\n",
    "import time\n",
    "\n",
    "clock_setting = False\n",
    "hour = 23\n",
    "minute = 59\n",
    "sec = 59\n",
    "times = 3\n",
    "interval = 0.6\n",
    "username = \"F227268068\"\n",
    "password = \"lovewake2018\""
   ]
  },
  {
   "cell_type": "markdown",
   "metadata": {},
   "source": [
    "#### 由於每個ID都是獨立的，我們可以在頁面中找到自己要的ID資訊。\n",
    "#### 以EZskin為例，在登入時所需要的資料為ID, Password, Login, 從網站原始碼截取的資訊如下"
   ]
  },
  {
   "cell_type": "code",
   "execution_count": 2,
   "metadata": {
    "collapsed": true
   },
   "outputs": [],
   "source": [
    "def login_proc(username, password):\n",
    "    login_url = \"https://www.ezskin.com.tw/member/member_login.aspx\"\n",
    "    sel = webdriver.Chrome()\n",
    "    sel.get(\"https://www.ezskin.com.tw/member/member_login.aspx\")\n",
    "    # sign in the username\n",
    "    try:\n",
    "        user_input = sel.find_element_by_id(\"ctl00_ContentPlaceHolder1_txtUserID\")\n",
    "        user_input.clear()\n",
    "        user_input.send_keys(username)\n",
    "        print ('user-id write success!')\n",
    "    except:\n",
    "        print ('user-id write error!')\n",
    "    # sign in the pasword\n",
    "    try:\n",
    "        pwd_input = sel.find_element_by_id(\"ctl00_ContentPlaceHolder1_txtPassword\")\n",
    "        pwd_input.clear()\n",
    "        pwd_input.send_keys(password)\n",
    "        print ('pw write success!')\n",
    "    except:\n",
    "        print ('pw write error!')\n",
    "    # Check for Login success\n",
    "    try:\n",
    "        sel.find_element_by_id(\"ctl00_ContentPlaceHolder1_btnLogin\").click()\n",
    "    except:\n",
    "        print ('Login Failed')\n",
    "\n",
    "    while True:\n",
    "        curpage_url = sel.current_url\n",
    "        if curpage_url != login_url:\n",
    "            if curpage_url[:-1] != login_url:  # choose wrong verify_pic\n",
    "                print ('Login finished!')\n",
    "                break\n",
    "        else:\n",
    "            time.sleep(5)\n",
    "            print ('Login Failed!')\n",
    "    return sel"
   ]
  },
  {
   "cell_type": "code",
   "execution_count": 3,
   "metadata": {},
   "outputs": [
    {
     "name": "stdout",
     "output_type": "stream",
     "text": [
      "user-id write success!\n",
      "pw write success!\n",
      "Login finished!\n"
     ]
    }
   ],
   "source": [
    "sel = login_proc(username, password)"
   ]
  },
  {
   "cell_type": "markdown",
   "metadata": {},
   "source": [
    "#### Since 門診掛號沒有id,這邊用Xpath的方式將該element 找到"
   ]
  },
  {
   "cell_type": "code",
   "execution_count": 4,
   "metadata": {},
   "outputs": [
    {
     "name": "stdout",
     "output_type": "stream",
     "text": [
      "準備門診掛號...\n"
     ]
    }
   ],
   "source": [
    "try:\n",
    "    sel.find_element_by_xpath('//*[@id=\"body\"]/div[4]/div[2]/div[1]/div/div[2]/table/tbody/tr/td/table/tbody/tr[4]/td/div/input').click()\n",
    "    print (\"準備門診掛號...\")\n",
    "except BaseException:\n",
    "    print (\"無法門診掛號...\")"
   ]
  },
  {
   "cell_type": "markdown",
   "metadata": {},
   "source": [
    "#### 仔細觀察，該checkbox有固定的格式\n",
    "\n",
    "#### 如果有出現該id就直接click然後break 離開迴圈"
   ]
  },
  {
   "cell_type": "code",
   "execution_count": 5,
   "metadata": {
    "collapsed": true
   },
   "outputs": [],
   "source": [
    "def select_proc():\n",
    "    flag = 0\n",
    "    try:\n",
    "        sel.refresh()\n",
    "        #a = 1\n",
    "    except:\n",
    "        print (\"Cannot Access this website\")\n",
    "    current_date = sel.find_element_by_xpath('//*[@id=\"ctl00_ContentPlaceHolder1_dbOutpatient\"]/tbody/tr[9]/td[1]').text\n",
    "    if date != current_date:\n",
    "        print (current_date,\"booking is opening...\")\n",
    "    for i in range (1,4):\n",
    "        checkbox = 'ctl00_ContentPlaceHolder1_dbOutpatient_ctl09_chkSelect'+str(i)\n",
    "        try:   \n",
    "            sel.find_element_by_id(checkbox).click()\n",
    "            flag = 1\n",
    "            break\n",
    "        except BaseException:\n",
    "            continue\n",
    "            #print(checkbox + \" element not exist\")\n",
    "    return flag"
   ]
  },
  {
   "cell_type": "code",
   "execution_count": 6,
   "metadata": {
    "collapsed": true
   },
   "outputs": [],
   "source": [
    "date = sel.find_element_by_xpath('//*[@id=\"ctl00_ContentPlaceHolder1_dbOutpatient\"]/tbody/tr[9]/td[1]').text"
   ]
  },
  {
   "cell_type": "markdown",
   "metadata": {},
   "source": [
    "#### 這個步驟是等待，我們只有在23時59分59秒才需要開啟該程式，其他時間都可以休息"
   ]
  },
  {
   "cell_type": "code",
   "execution_count": 7,
   "metadata": {},
   "outputs": [],
   "source": [
    "while(clock_setting):\n",
    "    localtime = time.localtime(time.time())\n",
    "    #print (\"localtime :\", localtime)\n",
    "    if localtime.tm_hour == hour and localtime.tm_min == minute and localtime.tm_sec == sec:\n",
    "        while(1):\n",
    "            localtime = time.localtime(time.time())\n",
    "            if localtime.tm_sec == (sec+1)%60 :\n",
    "                sleep(interval)\n",
    "                break\n",
    "        break\n",
    "    print (localtime.tm_hour,localtime.tm_min,localtime.tm_sec)\n",
    "    if localtime.tm_hour != hour:\n",
    "        sleep(3600)\n",
    "    elif localtime.tm_min != minute:\n",
    "        sleep(60)\n",
    "    else:\n",
    "        sleep(1)\n",
    "\n"
   ]
  },
  {
   "cell_type": "markdown",
   "metadata": {},
   "source": [
    "#### 等待"
   ]
  },
  {
   "cell_type": "code",
   "execution_count": 8,
   "metadata": {},
   "outputs": [
    {
     "name": "stdout",
     "output_type": "stream",
     "text": [
      "Keep Waiting, the time is i =  0 time.struct_time(tm_year=2018, tm_mon=3, tm_mday=13, tm_hour=21, tm_min=31, tm_sec=37, tm_wday=1, tm_yday=72, tm_isdst=0) 0.5802969932556152\n",
      "Keep Waiting, the time is i =  1 time.struct_time(tm_year=2018, tm_mon=3, tm_mday=13, tm_hour=21, tm_min=31, tm_sec=37, tm_wday=1, tm_yday=72, tm_isdst=0) 0.6020090579986572\n",
      "Keep Waiting, the time is i =  2 time.struct_time(tm_year=2018, tm_mon=3, tm_mday=13, tm_hour=21, tm_min=31, tm_sec=38, tm_wday=1, tm_yday=72, tm_isdst=0) 0.600775957107544\n"
     ]
    }
   ],
   "source": [
    "current_time = time.time()\n",
    "for i in range(times):\n",
    "    flag = select_proc()\n",
    "    time_cost = time.time()-current_time\n",
    "    current_time = time.time()\n",
    "    if flag == True:\n",
    "        print (\"Successfully Selected, the time is i = \",i, time.localtime(current_time),time_cost)\n",
    "        break\n",
    "    else :\n",
    "        print (\"Keep Waiting, the time is i = \",i, time.localtime(current_time),time_cost)\n",
    "        "
   ]
  },
  {
   "cell_type": "markdown",
   "metadata": {},
   "source": [
    "#### 下一步跟確認掛號都算是簡單的，如果有成功掛號(即flag為true)，只要抓到id繼續click就可以了\n",
    "\n",
    "##### 先點擊下一步\n",
    "<input type=\"submit\" name=\"ctl00$ContentPlaceHolder1$btnNext\" value=\"下一步\" onclick=\"return checkModify();\" id=\"ctl00_ContentPlaceHolder1_btnNext\" class=\"btn01\">\n",
    "\n",
    "##### 確認掛號語法\n",
    "\n",
    "這邊還是要碰一點運氣，有機會鍛羽而歸\n",
    "\n",
    "<input type=\"submit\" name=\"ctl00$ContentPlaceHolder1$btnSave\" value=\"確定掛號\" id=\"ctl00_ContentPlaceHolder1_btnSave\" class=\"btn01\">"
   ]
  },
  {
   "cell_type": "code",
   "execution_count": 9,
   "metadata": {},
   "outputs": [
    {
     "name": "stdout",
     "output_type": "stream",
     "text": [
      "Sorry >_< all the doctors are reserved!\n"
     ]
    }
   ],
   "source": [
    "if flag == True:\n",
    "    try:\n",
    "        sel.find_element_by_id(\"ctl00_ContentPlaceHolder1_btnNext\").click()\n",
    "        print (\"Successfully Next Step!\")\n",
    "    except BaseException:\n",
    "        print (\"Cannot Press Next step!\")\n",
    "    try:\n",
    "        sel.find_element_by_id(\"ctl00_ContentPlaceHolder1_btnSave\").click()\n",
    "        print (\"Successfully Saved!\")\n",
    "    except BaseException:\n",
    "        print (\"Cannot save\")\n",
    "        \n",
    "    msg = sel.switch_to_alert().text\n",
    "    if '您已經在此門診掛號' in msg:\n",
    "        print (msg,\"Congratulation!!! Your reservation is done!\")\n",
    "    else:\n",
    "        print (msg,\"Sorry >_< all the doctors are reserved!\")\n",
    "    sel.switch_to_alert().accept()\n",
    "else:\n",
    "    print (\"Sorry >_< all the doctors are reserved!\")"
   ]
  },
  {
   "cell_type": "code",
   "execution_count": 10,
   "metadata": {},
   "outputs": [
    {
     "name": "stdout",
     "output_type": "stream",
     "text": [
      "Current Time istime.struct_time(tm_year=2018, tm_mon=3, tm_mday=13, tm_hour=21, tm_min=31, tm_sec=38, tm_wday=1, tm_yday=72, tm_isdst=0)\n"
     ]
    }
   ],
   "source": [
    "localtime = time.localtime(time.time())\n",
    "print (\"Current Time is\"+str(localtime))"
   ]
  }
 ],
 "metadata": {
  "kernelspec": {
   "display_name": "Python 3",
   "language": "python",
   "name": "python3"
  },
  "language_info": {
   "codemirror_mode": {
    "name": "ipython",
    "version": 3
   },
   "file_extension": ".py",
   "mimetype": "text/x-python",
   "name": "python",
   "nbconvert_exporter": "python",
   "pygments_lexer": "ipython3",
   "version": "3.6.1"
  }
 },
 "nbformat": 4,
 "nbformat_minor": 2
}
